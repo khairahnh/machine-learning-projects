{
 "cells": [
  {
   "cell_type": "markdown",
   "id": "765ff6db",
   "metadata": {},
   "source": [
    "# Import Packages"
   ]
  },
  {
   "cell_type": "code",
   "execution_count": 1,
   "id": "99c697c8",
   "metadata": {},
   "outputs": [],
   "source": [
    "import numpy as np\n",
    "import pandas as pd\n",
    "import matplotlib.pyplot as plt\n",
    "from matplotlib.axes import Axes\n",
    "import seaborn as sns\n",
    "\n",
    "\n",
    "# For calculating Chi-Squared Test, T-Test, ANOVA\n",
    "import scipy.stats as stats\n",
    "\n",
    "# calculate of skewness\n",
    "from scipy.stats import skew \n",
    "\n",
    "# For data partitioning\n",
    "from sklearn.model_selection import train_test_split\n",
    "\n",
    "# For standardization\n",
    "from sklearn.preprocessing import StandardScaler\n",
    "\n",
    "# For saving model\n",
    "import pickle\n",
    "\n",
    "# For saving scaler\n",
    "import joblib"
   ]
  },
  {
   "cell_type": "code",
   "execution_count": 2,
   "id": "68d1ca9f",
   "metadata": {},
   "outputs": [
    {
     "data": {
      "text/html": [
       "<div>\n",
       "<style scoped>\n",
       "    .dataframe tbody tr th:only-of-type {\n",
       "        vertical-align: middle;\n",
       "    }\n",
       "\n",
       "    .dataframe tbody tr th {\n",
       "        vertical-align: top;\n",
       "    }\n",
       "\n",
       "    .dataframe thead th {\n",
       "        text-align: right;\n",
       "    }\n",
       "</style>\n",
       "<table border=\"1\" class=\"dataframe\">\n",
       "  <thead>\n",
       "    <tr style=\"text-align: right;\">\n",
       "      <th></th>\n",
       "      <th>Age</th>\n",
       "      <th>BusinessTravel</th>\n",
       "      <th>MonthlyIncome</th>\n",
       "      <th>JobSatisfaction</th>\n",
       "      <th>Bonus</th>\n",
       "      <th>Department</th>\n",
       "      <th>DistanceFromHome</th>\n",
       "      <th>Education</th>\n",
       "      <th>EducationField</th>\n",
       "      <th>EnvSatisfaction</th>\n",
       "      <th>Gender</th>\n",
       "      <th>JobRole</th>\n",
       "      <th>MaritalStatus</th>\n",
       "      <th>PerformanceRating</th>\n",
       "      <th>TrainingTimesLastYear</th>\n",
       "      <th>YearsAtCompany</th>\n",
       "      <th>YearsSinceLastPromotion</th>\n",
       "      <th>OverTime</th>\n",
       "      <th>Attrition</th>\n",
       "    </tr>\n",
       "    <tr>\n",
       "      <th>EmployeeID</th>\n",
       "      <th></th>\n",
       "      <th></th>\n",
       "      <th></th>\n",
       "      <th></th>\n",
       "      <th></th>\n",
       "      <th></th>\n",
       "      <th></th>\n",
       "      <th></th>\n",
       "      <th></th>\n",
       "      <th></th>\n",
       "      <th></th>\n",
       "      <th></th>\n",
       "      <th></th>\n",
       "      <th></th>\n",
       "      <th></th>\n",
       "      <th></th>\n",
       "      <th></th>\n",
       "      <th></th>\n",
       "      <th></th>\n",
       "    </tr>\n",
       "  </thead>\n",
       "  <tbody>\n",
       "    <tr>\n",
       "      <th>1</th>\n",
       "      <td>41</td>\n",
       "      <td>Travel_Rarely</td>\n",
       "      <td>5993</td>\n",
       "      <td>4</td>\n",
       "      <td>17979</td>\n",
       "      <td>Sales</td>\n",
       "      <td>1</td>\n",
       "      <td>2</td>\n",
       "      <td>Life Sciences</td>\n",
       "      <td>2</td>\n",
       "      <td>Female</td>\n",
       "      <td>Sales Executive</td>\n",
       "      <td>Single</td>\n",
       "      <td>3</td>\n",
       "      <td>0</td>\n",
       "      <td>6</td>\n",
       "      <td>0</td>\n",
       "      <td>Yes</td>\n",
       "      <td>Yes</td>\n",
       "    </tr>\n",
       "    <tr>\n",
       "      <th>2</th>\n",
       "      <td>49</td>\n",
       "      <td>Travel_Frequently</td>\n",
       "      <td>5130</td>\n",
       "      <td>2</td>\n",
       "      <td>20520</td>\n",
       "      <td>Research &amp; Development</td>\n",
       "      <td>8</td>\n",
       "      <td>1</td>\n",
       "      <td>Life Sciences</td>\n",
       "      <td>3</td>\n",
       "      <td>Male</td>\n",
       "      <td>Research Scientist</td>\n",
       "      <td>Married</td>\n",
       "      <td>4</td>\n",
       "      <td>3</td>\n",
       "      <td>10</td>\n",
       "      <td>1</td>\n",
       "      <td>No</td>\n",
       "      <td>No</td>\n",
       "    </tr>\n",
       "    <tr>\n",
       "      <th>4</th>\n",
       "      <td>37</td>\n",
       "      <td>Travel_Rarely</td>\n",
       "      <td>2090</td>\n",
       "      <td>3</td>\n",
       "      <td>6270</td>\n",
       "      <td>Research &amp; Development</td>\n",
       "      <td>2</td>\n",
       "      <td>2</td>\n",
       "      <td>Other</td>\n",
       "      <td>4</td>\n",
       "      <td>Male</td>\n",
       "      <td>Laboratory Technician</td>\n",
       "      <td>Single</td>\n",
       "      <td>3</td>\n",
       "      <td>3</td>\n",
       "      <td>0</td>\n",
       "      <td>0</td>\n",
       "      <td>Yes</td>\n",
       "      <td>Yes</td>\n",
       "    </tr>\n",
       "    <tr>\n",
       "      <th>5</th>\n",
       "      <td>33</td>\n",
       "      <td>Travel_Frequently</td>\n",
       "      <td>2909</td>\n",
       "      <td>3</td>\n",
       "      <td>8727</td>\n",
       "      <td>Research &amp; Development</td>\n",
       "      <td>3</td>\n",
       "      <td>4</td>\n",
       "      <td>Life Sciences</td>\n",
       "      <td>4</td>\n",
       "      <td>Female</td>\n",
       "      <td>Research Scientist</td>\n",
       "      <td>Married</td>\n",
       "      <td>3</td>\n",
       "      <td>3</td>\n",
       "      <td>8</td>\n",
       "      <td>3</td>\n",
       "      <td>Yes</td>\n",
       "      <td>No</td>\n",
       "    </tr>\n",
       "    <tr>\n",
       "      <th>7</th>\n",
       "      <td>27</td>\n",
       "      <td>Travel_Rarely</td>\n",
       "      <td>3468</td>\n",
       "      <td>2</td>\n",
       "      <td>10404</td>\n",
       "      <td>Research &amp; Development</td>\n",
       "      <td>2</td>\n",
       "      <td>1</td>\n",
       "      <td>Medical</td>\n",
       "      <td>1</td>\n",
       "      <td>Male</td>\n",
       "      <td>Laboratory Technician</td>\n",
       "      <td>Married</td>\n",
       "      <td>3</td>\n",
       "      <td>3</td>\n",
       "      <td>2</td>\n",
       "      <td>2</td>\n",
       "      <td>No</td>\n",
       "      <td>No</td>\n",
       "    </tr>\n",
       "  </tbody>\n",
       "</table>\n",
       "</div>"
      ],
      "text/plain": [
       "            Age     BusinessTravel  MonthlyIncome  JobSatisfaction  Bonus  \\\n",
       "EmployeeID                                                                  \n",
       "1            41      Travel_Rarely           5993                4  17979   \n",
       "2            49  Travel_Frequently           5130                2  20520   \n",
       "4            37      Travel_Rarely           2090                3   6270   \n",
       "5            33  Travel_Frequently           2909                3   8727   \n",
       "7            27      Travel_Rarely           3468                2  10404   \n",
       "\n",
       "                        Department  DistanceFromHome  Education  \\\n",
       "EmployeeID                                                        \n",
       "1                            Sales                 1          2   \n",
       "2           Research & Development                 8          1   \n",
       "4           Research & Development                 2          2   \n",
       "5           Research & Development                 3          4   \n",
       "7           Research & Development                 2          1   \n",
       "\n",
       "           EducationField  EnvSatisfaction  Gender                JobRole  \\\n",
       "EmployeeID                                                                  \n",
       "1           Life Sciences                2  Female        Sales Executive   \n",
       "2           Life Sciences                3    Male     Research Scientist   \n",
       "4                   Other                4    Male  Laboratory Technician   \n",
       "5           Life Sciences                4  Female     Research Scientist   \n",
       "7                 Medical                1    Male  Laboratory Technician   \n",
       "\n",
       "           MaritalStatus  PerformanceRating  TrainingTimesLastYear  \\\n",
       "EmployeeID                                                           \n",
       "1                 Single                  3                      0   \n",
       "2                Married                  4                      3   \n",
       "4                 Single                  3                      3   \n",
       "5                Married                  3                      3   \n",
       "7                Married                  3                      3   \n",
       "\n",
       "            YearsAtCompany  YearsSinceLastPromotion OverTime Attrition  \n",
       "EmployeeID                                                              \n",
       "1                        6                        0      Yes       Yes  \n",
       "2                       10                        1       No        No  \n",
       "4                        0                        0      Yes       Yes  \n",
       "5                        8                        3      Yes        No  \n",
       "7                        2                        2       No        No  "
      ]
     },
     "execution_count": 2,
     "metadata": {},
     "output_type": "execute_result"
    }
   ],
   "source": [
    "df = pd.read_csv('project_dataset.csv', index_col='EmployeeID')\n",
    "df.head()"
   ]
  },
  {
   "cell_type": "markdown",
   "id": "36669b94",
   "metadata": {},
   "source": [
    "---"
   ]
  },
  {
   "cell_type": "markdown",
   "id": "74b57a31",
   "metadata": {},
   "source": [
    "# Check Data Quality"
   ]
  },
  {
   "cell_type": "code",
   "execution_count": 3,
   "id": "36e735a6",
   "metadata": {},
   "outputs": [
    {
     "data": {
      "text/plain": [
       "Age                        0\n",
       "BusinessTravel             0\n",
       "MonthlyIncome              0\n",
       "JobSatisfaction            0\n",
       "Bonus                      0\n",
       "Department                 0\n",
       "DistanceFromHome           0\n",
       "Education                  0\n",
       "EducationField             0\n",
       "EnvSatisfaction            0\n",
       "Gender                     0\n",
       "JobRole                    0\n",
       "MaritalStatus              0\n",
       "PerformanceRating          0\n",
       "TrainingTimesLastYear      0\n",
       "YearsAtCompany             0\n",
       "YearsSinceLastPromotion    0\n",
       "OverTime                   0\n",
       "Attrition                  0\n",
       "dtype: int64"
      ]
     },
     "execution_count": 3,
     "metadata": {},
     "output_type": "execute_result"
    }
   ],
   "source": [
    "#check missing values\n",
    "\n",
    "df.isnull().sum()"
   ]
  },
  {
   "cell_type": "code",
   "execution_count": 4,
   "id": "b035256a",
   "metadata": {},
   "outputs": [
    {
     "data": {
      "text/html": [
       "<div>\n",
       "<style scoped>\n",
       "    .dataframe tbody tr th:only-of-type {\n",
       "        vertical-align: middle;\n",
       "    }\n",
       "\n",
       "    .dataframe tbody tr th {\n",
       "        vertical-align: top;\n",
       "    }\n",
       "\n",
       "    .dataframe thead th {\n",
       "        text-align: right;\n",
       "    }\n",
       "</style>\n",
       "<table border=\"1\" class=\"dataframe\">\n",
       "  <thead>\n",
       "    <tr style=\"text-align: right;\">\n",
       "      <th></th>\n",
       "      <th>Age</th>\n",
       "      <th>BusinessTravel</th>\n",
       "      <th>MonthlyIncome</th>\n",
       "      <th>JobSatisfaction</th>\n",
       "      <th>Bonus</th>\n",
       "      <th>Department</th>\n",
       "      <th>DistanceFromHome</th>\n",
       "      <th>Education</th>\n",
       "      <th>EducationField</th>\n",
       "      <th>EnvSatisfaction</th>\n",
       "      <th>Gender</th>\n",
       "      <th>JobRole</th>\n",
       "      <th>MaritalStatus</th>\n",
       "      <th>PerformanceRating</th>\n",
       "      <th>TrainingTimesLastYear</th>\n",
       "      <th>YearsAtCompany</th>\n",
       "      <th>YearsSinceLastPromotion</th>\n",
       "      <th>OverTime</th>\n",
       "      <th>Attrition</th>\n",
       "    </tr>\n",
       "    <tr>\n",
       "      <th>EmployeeID</th>\n",
       "      <th></th>\n",
       "      <th></th>\n",
       "      <th></th>\n",
       "      <th></th>\n",
       "      <th></th>\n",
       "      <th></th>\n",
       "      <th></th>\n",
       "      <th></th>\n",
       "      <th></th>\n",
       "      <th></th>\n",
       "      <th></th>\n",
       "      <th></th>\n",
       "      <th></th>\n",
       "      <th></th>\n",
       "      <th></th>\n",
       "      <th></th>\n",
       "      <th></th>\n",
       "      <th></th>\n",
       "      <th></th>\n",
       "    </tr>\n",
       "  </thead>\n",
       "  <tbody>\n",
       "  </tbody>\n",
       "</table>\n",
       "</div>"
      ],
      "text/plain": [
       "Empty DataFrame\n",
       "Columns: [Age, BusinessTravel, MonthlyIncome, JobSatisfaction, Bonus, Department, DistanceFromHome, Education, EducationField, EnvSatisfaction, Gender, JobRole, MaritalStatus, PerformanceRating, TrainingTimesLastYear, YearsAtCompany, YearsSinceLastPromotion, OverTime, Attrition]\n",
       "Index: []"
      ]
     },
     "execution_count": 4,
     "metadata": {},
     "output_type": "execute_result"
    }
   ],
   "source": [
    "#check duplicated rows\n",
    "\n",
    "df[df.duplicated(keep=False)]"
   ]
  },
  {
   "cell_type": "code",
   "execution_count": 5,
   "id": "27d16635",
   "metadata": {},
   "outputs": [
    {
     "data": {
      "text/plain": [
       "(1470, 19)"
      ]
     },
     "execution_count": 5,
     "metadata": {},
     "output_type": "execute_result"
    }
   ],
   "source": [
    "df.shape"
   ]
  },
  {
   "cell_type": "markdown",
   "id": "94a9d502",
   "metadata": {},
   "source": [
    "## Data is clean. Proceed with EDA"
   ]
  },
  {
   "cell_type": "markdown",
   "id": "32958fe8",
   "metadata": {},
   "source": [
    "--- "
   ]
  },
  {
   "cell_type": "markdown",
   "id": "2e78acc8",
   "metadata": {},
   "source": [
    "# Perform Exploratory Data Analysis - Univariate Analysis"
   ]
  },
  {
   "cell_type": "markdown",
   "id": "56e2e0ef",
   "metadata": {},
   "source": [
    "#### Class proportion `Gender` , `Attrition`, `Marital Status`, `BusinessTravel`, `Department`,  `EducationField`,  `JobRole`"
   ]
  },
  {
   "cell_type": "code",
   "execution_count": 6,
   "id": "97bebb94",
   "metadata": {},
   "outputs": [
    {
     "name": "stdout",
     "output_type": "stream",
     "text": [
      "Male      882\n",
      "Female    588\n",
      "Name: Gender, dtype: int64\n"
     ]
    },
    {
     "data": {
      "image/png": "[encoded data removed]",
      "text/plain": [
       "<Figure size 720x432 with 1 Axes>"
      ]
     },
     "metadata": {},
     "output_type": "display_data"
    }
   ],
   "source": [
    "#Gender count\n",
    "\n",
    "\n",
    "gender_count  = df['Gender'].value_counts()\n",
    "print(gender_count)\n",
    "\n",
    "#MaritalStatus Proportion\n",
    "\n",
    "gender_prop = df['Gender'].value_counts(normalize=True)*100\n",
    "gender_prop.plot(kind='pie',\n",
    "                     autopct='%.1f%%',\n",
    "                 figsize = (10,6),\n",
    "                fontsize = 13)\n",
    "plt.show()\n"
   ]
  },
  {
   "cell_type": "code",
   "execution_count": 7,
   "id": "b728c623",
   "metadata": {},
   "outputs": [
    {
     "name": "stdout",
     "output_type": "stream",
     "text": [
      "No     1233\n",
      "Yes     237\n",
      "Name: Attrition, dtype: int64\n"
     ]
    },
    {
     "data": {
      "image/png": "[encoded data removed]",
      "text/plain": [
       "<Figure size 576x360 with 1 Axes>"
      ]
     },
     "metadata": {
      "needs_background": "light"
     },
     "output_type": "display_data"
    }
   ],
   "source": [
    "# plot bar for Attrition proportion\n",
    "\n",
    "#Attrition count\n",
    "attrition_count  = df['Attrition'].value_counts()\n",
    "print(attrition_count)\n",
    "\n",
    "\n",
    "#figure size\n",
    "plt.figure(figsize=(8,5))\n",
    "\n",
    "attrition_count = sns.countplot(x='Attrition', \n",
    "                         data=df)\n",
    "\n",
    "abs_values = df['Attrition'].value_counts(ascending = True)\n",
    "rel_values = df['Attrition'].value_counts(ascending = True, normalize=True).values*100\n",
    "lbls = [f\"{p[0]} ({p[1]:.1f}%)\" for p in zip(abs_values, rel_values)]\n",
    "\n",
    "attrition_count.bar_label(container=attrition_count.containers[0], labels=lbls)\n",
    "\n",
    "#adding title\n",
    "plt.title('Proportion of Attrition', size=14)\n",
    "\n",
    "\n",
    "#set limit for y axis\n",
    "plt.ylim([0,1300])\n",
    "plt.show()"
   ]
  },
  {
   "cell_type": "code",
   "execution_count": 8,
   "id": "ce2284e1",
   "metadata": {},
   "outputs": [
    {
     "name": "stdout",
     "output_type": "stream",
     "text": [
      "Married     673\n",
      "Single      470\n",
      "Divorced    327\n",
      "Name: MaritalStatus, dtype: int64\n"
     ]
    },
    {
     "data": {
      "image/png": "[encoded data removed]",
      "text/plain": [
       "<Figure size 720x432 with 1 Axes>"
      ]
     },
     "metadata": {},
     "output_type": "display_data"
    }
   ],
   "source": [
    "#MaritalStatus count\n",
    "\n",
    "status_count  = df['MaritalStatus'].value_counts()\n",
    "print(status_count)\n",
    "\n",
    "#MaritalStatus Proportion\n",
    "\n",
    "status_prop = df['MaritalStatus'].value_counts(normalize=True)*100\n",
    "status_prop.plot(kind='pie',\n",
    "                     autopct='%.1f%%',\n",
    "                     colors=sns.color_palette('Set2'),\n",
    "                 figsize = (10,6),\n",
    "                fontsize = 13)\n",
    "plt.show()"
   ]
  },
  {
   "cell_type": "code",
   "execution_count": 9,
   "id": "d0401a15",
   "metadata": {},
   "outputs": [
    {
     "name": "stdout",
     "output_type": "stream",
     "text": [
      "Travel_Rarely        1043\n",
      "Travel_Frequently     277\n",
      "Non-Travel            150\n",
      "Name: BusinessTravel, dtype: int64\n"
     ]
    },
    {
     "data": {
      "image/png": "[encoded data removed]",
      "text/plain": [
       "<Figure size 720x432 with 1 Axes>"
      ]
     },
     "metadata": {},
     "output_type": "display_data"
    }
   ],
   "source": [
    "#BusinessTravel count\n",
    "\n",
    "travel_count  = df['BusinessTravel'].value_counts()\n",
    "print(travel_count)\n",
    "\n",
    "#BusinessTravel Proportion\n",
    "\n",
    "travel_prop = df['BusinessTravel'].value_counts(normalize=True)*100\n",
    "travel_prop.plot(kind='pie',\n",
    "                     autopct='%.1f%%',\n",
    "                     colors=sns.color_palette('Set2'),\n",
    "                 figsize = (10,6),\n",
    "                fontsize = 13)\n",
    "plt.show()"
   ]
  },
  {
   "cell_type": "code",
   "execution_count": 10,
   "id": "2c0cb2a1",
   "metadata": {},
   "outputs": [
    {
     "name": "stdout",
     "output_type": "stream",
     "text": [
      "Research & Development    961\n",
      "Sales                     446\n",
      "Human Resources            63\n",
      "Name: Department, dtype: int64\n"
     ]
    },
    {
     "data": {
      "image/png": "[encoded data removed]",
      "text/plain": [
       "<Figure size 720x432 with 1 Axes>"
      ]
     },
     "metadata": {},
     "output_type": "display_data"
    }
   ],
   "source": [
    "#department count\n",
    "\n",
    "department_count  = df['Department'].value_counts()\n",
    "print(department_count)\n",
    "\n",
    "#Department Proportion\n",
    "\n",
    "department_prop = df['Department'].value_counts(normalize=True)*100\n",
    "\n",
    "department_prop.plot(kind='pie',\n",
    "                     autopct='%.1f%%',\n",
    "                     colors=sns.color_palette('Set2'),\n",
    "                 figsize = (10,6),\n",
    "                fontsize = 13)\n",
    "\n",
    "plt.show()"
   ]
  },
  {
   "cell_type": "code",
   "execution_count": 11,
   "id": "b841e070",
   "metadata": {},
   "outputs": [
    {
     "data": {
      "image/png": "[encoded data removed]",
      "text/plain": [
       "<Figure size 864x360 with 1 Axes>"
      ]
     },
     "metadata": {
      "needs_background": "light"
     },
     "output_type": "display_data"
    }
   ],
   "source": [
    "# plot bar for EducationField proportion\n",
    "\n",
    "#figure size\n",
    "plt.figure(figsize=(12,5))\n",
    "\n",
    "eduField = sns.countplot(x='EducationField',\n",
    "                         data=df,\n",
    "                        palette =\"Set2\")\n",
    "\n",
    "abs_values = df['EducationField'].value_counts()\n",
    "rel_values = df['EducationField'].value_counts(normalize=True).values*100\n",
    "lbls = [f\"{p[0]} ({p[1]:.0f}%)\" for p in zip(abs_values, rel_values)]\n",
    "\n",
    "eduField.bar_label(container=eduField.containers[0], labels=lbls)\n",
    "\n",
    "#adding title\n",
    "plt.title('Education Field Proportion', size=14)\n",
    "\n",
    "#rotate the xlabel\n",
    "plt.xticks(rotation=90)\n",
    "\n",
    "\n",
    "#set limit for y axis\n",
    "plt.ylim([0,700])\n",
    "plt.show()"
   ]
  },
  {
   "cell_type": "code",
   "execution_count": 12,
   "id": "f4002a2b",
   "metadata": {},
   "outputs": [
    {
     "data": {
      "image/png": "[encoded data removed]",
      "text/plain": [
       "<Figure size 864x360 with 1 Axes>"
      ]
     },
     "metadata": {
      "needs_background": "light"
     },
     "output_type": "display_data"
    }
   ],
   "source": [
    "# plot bar for JobRole proportion\n",
    "\n",
    "#figure size\n",
    "plt.figure(figsize=(12,5))\n",
    "\n",
    "job_role = sns.countplot(x='JobRole', \n",
    "                         data=df,\n",
    "                         palette =\"Set2\")\n",
    "\n",
    "abs_values = df['JobRole'].value_counts()\n",
    "rel_values = df['JobRole'].value_counts(normalize=True).values*100\n",
    "lbls = [f\"{p[0]} ({p[1]:.0f}%)\" for p in zip(abs_values, rel_values)]\n",
    "\n",
    "job_role.bar_label(container=job_role.containers[0], labels=lbls) \n",
    "\n",
    "#adding title\n",
    "plt.title('Job Role Proportion', size=14)\n",
    "\n",
    "#rotate the xlabel\n",
    "plt.xticks(rotation=90)\n",
    "\n",
    "\n",
    "#set limit for y axis\n",
    "plt.ylim([0,400])\n",
    "plt.show()"
   ]
  },
  {
   "cell_type": "markdown",
   "id": "d8373b95",
   "metadata": {},
   "source": [
    "# Mean, Median for `Age`, `MonthlyIncome`, `Bonus`, `YearsAtCompany`"
   ]
  },
  {
   "cell_type": "code",
   "execution_count": 13,
   "id": "f55d768d",
   "metadata": {
    "scrolled": true
   },
   "outputs": [
    {
     "data": {
      "text/html": [
       "<div>\n",
       "<style scoped>\n",
       "    .dataframe tbody tr th:only-of-type {\n",
       "        vertical-align: middle;\n",
       "    }\n",
       "\n",
       "    .dataframe tbody tr th {\n",
       "        vertical-align: top;\n",
       "    }\n",
       "\n",
       "    .dataframe thead th {\n",
       "        text-align: right;\n",
       "    }\n",
       "</style>\n",
       "<table border=\"1\" class=\"dataframe\">\n",
       "  <thead>\n",
       "    <tr style=\"text-align: right;\">\n",
       "      <th></th>\n",
       "      <th>Age</th>\n",
       "      <th>MonthlyIncome</th>\n",
       "      <th>JobSatisfaction</th>\n",
       "      <th>Bonus</th>\n",
       "      <th>DistanceFromHome</th>\n",
       "      <th>Education</th>\n",
       "      <th>EnvSatisfaction</th>\n",
       "      <th>PerformanceRating</th>\n",
       "      <th>TrainingTimesLastYear</th>\n",
       "      <th>YearsAtCompany</th>\n",
       "      <th>YearsSinceLastPromotion</th>\n",
       "    </tr>\n",
       "  </thead>\n",
       "  <tbody>\n",
       "    <tr>\n",
       "      <th>count</th>\n",
       "      <td>1470.00</td>\n",
       "      <td>1470.00</td>\n",
       "      <td>1470.00</td>\n",
       "      <td>1470.00</td>\n",
       "      <td>1470.00</td>\n",
       "      <td>1470.00</td>\n",
       "      <td>1470.00</td>\n",
       "      <td>1470.00</td>\n",
       "      <td>1470.00</td>\n",
       "      <td>1470.00</td>\n",
       "      <td>1470.00</td>\n",
       "    </tr>\n",
       "    <tr>\n",
       "      <th>mean</th>\n",
       "      <td>36.92</td>\n",
       "      <td>6502.93</td>\n",
       "      <td>2.73</td>\n",
       "      <td>20479.50</td>\n",
       "      <td>9.19</td>\n",
       "      <td>2.91</td>\n",
       "      <td>2.72</td>\n",
       "      <td>3.15</td>\n",
       "      <td>2.80</td>\n",
       "      <td>7.01</td>\n",
       "      <td>2.19</td>\n",
       "    </tr>\n",
       "    <tr>\n",
       "      <th>std</th>\n",
       "      <td>9.14</td>\n",
       "      <td>4707.96</td>\n",
       "      <td>1.10</td>\n",
       "      <td>15066.27</td>\n",
       "      <td>8.11</td>\n",
       "      <td>1.02</td>\n",
       "      <td>1.09</td>\n",
       "      <td>0.36</td>\n",
       "      <td>1.29</td>\n",
       "      <td>6.13</td>\n",
       "      <td>3.22</td>\n",
       "    </tr>\n",
       "    <tr>\n",
       "      <th>min</th>\n",
       "      <td>18.00</td>\n",
       "      <td>1009.00</td>\n",
       "      <td>1.00</td>\n",
       "      <td>3027.00</td>\n",
       "      <td>1.00</td>\n",
       "      <td>1.00</td>\n",
       "      <td>1.00</td>\n",
       "      <td>3.00</td>\n",
       "      <td>0.00</td>\n",
       "      <td>0.00</td>\n",
       "      <td>0.00</td>\n",
       "    </tr>\n",
       "    <tr>\n",
       "      <th>25%</th>\n",
       "      <td>30.00</td>\n",
       "      <td>2911.00</td>\n",
       "      <td>2.00</td>\n",
       "      <td>9333.75</td>\n",
       "      <td>2.00</td>\n",
       "      <td>2.00</td>\n",
       "      <td>2.00</td>\n",
       "      <td>3.00</td>\n",
       "      <td>2.00</td>\n",
       "      <td>3.00</td>\n",
       "      <td>0.00</td>\n",
       "    </tr>\n",
       "    <tr>\n",
       "      <th>50%</th>\n",
       "      <td>36.00</td>\n",
       "      <td>4919.00</td>\n",
       "      <td>3.00</td>\n",
       "      <td>15484.50</td>\n",
       "      <td>7.00</td>\n",
       "      <td>3.00</td>\n",
       "      <td>3.00</td>\n",
       "      <td>3.00</td>\n",
       "      <td>3.00</td>\n",
       "      <td>5.00</td>\n",
       "      <td>1.00</td>\n",
       "    </tr>\n",
       "    <tr>\n",
       "      <th>75%</th>\n",
       "      <td>43.00</td>\n",
       "      <td>8379.00</td>\n",
       "      <td>4.00</td>\n",
       "      <td>26103.75</td>\n",
       "      <td>14.00</td>\n",
       "      <td>4.00</td>\n",
       "      <td>4.00</td>\n",
       "      <td>3.00</td>\n",
       "      <td>3.00</td>\n",
       "      <td>9.00</td>\n",
       "      <td>3.00</td>\n",
       "    </tr>\n",
       "    <tr>\n",
       "      <th>max</th>\n",
       "      <td>60.00</td>\n",
       "      <td>19999.00</td>\n",
       "      <td>4.00</td>\n",
       "      <td>79892.00</td>\n",
       "      <td>29.00</td>\n",
       "      <td>5.00</td>\n",
       "      <td>4.00</td>\n",
       "      <td>4.00</td>\n",
       "      <td>6.00</td>\n",
       "      <td>40.00</td>\n",
       "      <td>15.00</td>\n",
       "    </tr>\n",
       "  </tbody>\n",
       "</table>\n",
       "</div>"
      ],
      "text/plain": [
       "           Age  MonthlyIncome  JobSatisfaction     Bonus  DistanceFromHome  \\\n",
       "count  1470.00        1470.00          1470.00   1470.00           1470.00   \n",
       "mean     36.92        6502.93             2.73  20479.50              9.19   \n",
       "std       9.14        4707.96             1.10  15066.27              8.11   \n",
       "min      18.00        1009.00             1.00   3027.00              1.00   \n",
       "25%      30.00        2911.00             2.00   9333.75              2.00   \n",
       "50%      36.00        4919.00             3.00  15484.50              7.00   \n",
       "75%      43.00        8379.00             4.00  26103.75             14.00   \n",
       "max      60.00       19999.00             4.00  79892.00             29.00   \n",
       "\n",
       "       Education  EnvSatisfaction  PerformanceRating  TrainingTimesLastYear  \\\n",
       "count    1470.00          1470.00            1470.00                1470.00   \n",
       "mean        2.91             2.72               3.15                   2.80   \n",
       "std         1.02             1.09               0.36                   1.29   \n",
       "min         1.00             1.00               3.00                   0.00   \n",
       "25%         2.00             2.00               3.00                   2.00   \n",
       "50%         3.00             3.00               3.00                   3.00   \n",
       "75%         4.00             4.00               3.00                   3.00   \n",
       "max         5.00             4.00               4.00                   6.00   \n",
       "\n",
       "       YearsAtCompany  YearsSinceLastPromotion  \n",
       "count         1470.00                  1470.00  \n",
       "mean             7.01                     2.19  \n",
       "std              6.13                     3.22  \n",
       "min              0.00                     0.00  \n",
       "25%              3.00                     0.00  \n",
       "50%              5.00                     1.00  \n",
       "75%              9.00                     3.00  \n",
       "max             40.00                    15.00  "
      ]
     },
     "execution_count": 13,
     "metadata": {},
     "output_type": "execute_result"
    }
   ],
   "source": [
    "#Print Descriptive Summary\n",
    "df.describe().round(2)"
   ]
  },
  {
   "cell_type": "markdown",
   "id": "e24dbb4d",
   "metadata": {},
   "source": [
    "# Distribution of `Age`, `MonthlyIncome` and `Bonus`"
   ]
  },
  {
   "cell_type": "code",
   "execution_count": 14,
   "id": "4691a466",
   "metadata": {},
   "outputs": [
    {
     "data": {
      "image/png": "[encoded data removed]",
      "text/plain": [
       "<Figure size 720x360 with 1 Axes>"
      ]
     },
     "metadata": {
      "needs_background": "light"
     },
     "output_type": "display_data"
    },
    {
     "name": "stdout",
     "output_type": "stream",
     "text": [
      "0.41286446154785084\n"
     ]
    }
   ],
   "source": [
    "#Distribution of Age\n",
    "\n",
    "plt.figure(figsize=(10,5))\n",
    "plt.hist(df['Age'], bins=10, color = 'skyblue')\n",
    "\n",
    "\n",
    "plt.axvline(df['Age'].median(), color='k', linestyle='dashed', linewidth=2, label= 'Median')\n",
    "plt.axvline(df['Age'].quantile(0.25), color='k', linestyle='dashed', linewidth=2, label= '25%')\n",
    "plt.axvline(df['Age'].quantile(0.75), color='k', linestyle='dashed', linewidth=2, label= '75%')\n",
    "plt.axvline(df['Age'].max(), color='k', linestyle='dashed', linewidth=2, label= 'Max')\n",
    "plt.axvline(df['Age'].min(), color='k', linestyle='dashed', linewidth=2, label= 'Min')\n",
    "\n",
    "plt.title('Distribution of Age')\n",
    "plt.xlabel('Age')\n",
    "plt.ylabel('Frequency')\n",
    "plt.xticks(rotation=90) #rotating the xlabel\n",
    "plt.show()\n",
    "\n",
    "print(skew(df['Age'], bias=True))"
   ]
  },
  {
   "cell_type": "code",
   "execution_count": 15,
   "id": "12f8705f",
   "metadata": {},
   "outputs": [
    {
     "data": {
      "image/png": "[encoded data removed]",
      "text/plain": [
       "<Figure size 432x288 with 1 Axes>"
      ]
     },
     "metadata": {
      "needs_background": "light"
     },
     "output_type": "display_data"
    }
   ],
   "source": [
    "#Box Plot Age\n",
    "sns.boxplot(x='Age',data=df, color='skyblue')\n",
    "\n",
    "plt.axvline(df['Age'].median(), color='k', linestyle='dashed', linewidth=2, label= 'Median')\n",
    "plt.axvline(df['Age'].quantile(0.25), color='k', linestyle='dashed', linewidth=2, label= '25%')\n",
    "plt.axvline(df['Age'].quantile(0.75), color='k', linestyle='dashed', linewidth=2, label= '75%')\n",
    "plt.axvline(df['Age'].max(), color='k', linestyle='dashed', linewidth=2, label= 'Max')\n",
    "plt.axvline(df['Age'].min(), color='k', linestyle='dashed', linewidth=2, label= 'Min')\n",
    "\n",
    "plt.show()"
   ]
  },
  {
   "cell_type": "code",
   "execution_count": 16,
   "id": "64c12c13",
   "metadata": {},
   "outputs": [
    {
     "data": {
      "image/png": "[encoded data removed]",
      "text/plain": [
       "<Figure size 720x360 with 1 Axes>"
      ]
     },
     "metadata": {
      "needs_background": "light"
     },
     "output_type": "display_data"
    },
    {
     "name": "stdout",
     "output_type": "stream",
     "text": [
      "1.3684185123330814\n"
     ]
    }
   ],
   "source": [
    "# Distribution of MonthlyIncome\n",
    "\n",
    "\n",
    "plt.figure(figsize=(10,5))\n",
    "plt.hist(df['MonthlyIncome'], bins=10, color = 'skyblue')\n",
    "\n",
    "\n",
    "plt.axvline(df['MonthlyIncome'].median(), color='k', linestyle='dashed', linewidth=2, label= 'Median')\n",
    "plt.axvline(df['MonthlyIncome'].quantile(0.25), color='k', linestyle='dashed', linewidth=2, label= '25%')\n",
    "plt.axvline(df['MonthlyIncome'].quantile(0.75), color='k', linestyle='dashed', linewidth=2, label= '75%')\n",
    "plt.axvline(df['MonthlyIncome'].max(), color='k', linestyle='dashed', linewidth=2, label= 'Max')\n",
    "plt.axvline(df['MonthlyIncome'].min(), color='k', linestyle='dashed', linewidth=2, label= 'Min')\n",
    "\n",
    "plt.title('Distribution of Monthly Income')\n",
    "plt.xlabel('Monthly Income')\n",
    "plt.ylabel('Frequency')\n",
    "plt.xticks(rotation=90) #rotating the xlabel\n",
    "plt.show()\n",
    "\n",
    "print(skew(df['MonthlyIncome'], bias=True))"
   ]
  },
  {
   "cell_type": "code",
   "execution_count": 17,
   "id": "40263557",
   "metadata": {},
   "outputs": [
    {
     "data": {
      "image/png": "[encoded data removed]",
      "text/plain": [
       "<Figure size 432x288 with 1 Axes>"
      ]
     },
     "metadata": {
      "needs_background": "light"
     },
     "output_type": "display_data"
    }
   ],
   "source": [
    "#Box Plot MonthlyIncome\n",
    "sns.boxplot(x='MonthlyIncome',data=df, color='skyblue')\n",
    "\n",
    "plt.axvline(df['MonthlyIncome'].median(), color='k', linestyle='dashed', linewidth=2, label= 'Median')\n",
    "plt.axvline(df['MonthlyIncome'].quantile(0.25), color='k', linestyle='dashed', linewidth=2, label= '25%')\n",
    "plt.axvline(df['MonthlyIncome'].quantile(0.75), color='k', linestyle='dashed', linewidth=2, label= '75%')\n",
    "plt.axvline(df['MonthlyIncome'].max(), color='k', linestyle='dashed', linewidth=2, label= 'Max')\n",
    "plt.axvline(df['MonthlyIncome'].min(), color='k', linestyle='dashed', linewidth=2, label= 'Min')\n",
    "\n",
    "plt.show()"
   ]
  },
  {
   "cell_type": "code",
   "execution_count": 18,
   "id": "53ef4ce4",
   "metadata": {},
   "outputs": [
    {
     "data": {
      "image/png": "[encoded data removed]",
      "text/plain": [
       "<Figure size 720x360 with 1 Axes>"
      ]
     },
     "metadata": {
      "needs_background": "light"
     },
     "output_type": "display_data"
    },
    {
     "name": "stdout",
     "output_type": "stream",
     "text": [
      "1.4578079733662461\n"
     ]
    }
   ],
   "source": [
    "# Distribution of Bonus\n",
    "\n",
    "\n",
    "plt.figure(figsize=(10,5))\n",
    "plt.hist(df['Bonus'], bins=10, edgecolor='black', color = 'skyblue')\n",
    "\n",
    "plt.axvline(df['Bonus'].median(), color='k', linestyle='dashed', linewidth=2, label= 'Median')\n",
    "plt.axvline(df['Bonus'].quantile(0.25), color='k', linestyle='dashed', linewidth=2, label= '25%')\n",
    "plt.axvline(df['Bonus'].quantile(0.75), color='k', linestyle='dashed', linewidth=2, label= '75%')\n",
    "plt.axvline(df['Bonus'].max(), color='k', linestyle='dashed', linewidth=2, label= 'Max')\n",
    "plt.axvline(df['Bonus'].min(), color='k', linestyle='dashed', linewidth=2, label= 'Min')\n",
    "\n",
    "plt.title('Distribution of Bonus')\n",
    "plt.xlabel('Bonus')\n",
    "plt.ylabel('Frequency')\n",
    "plt.xticks(rotation=90) #rotating the xlabel\n",
    "plt.show()\n",
    "\n",
    "print(skew(df['Bonus'], bias=True))"
   ]
  },
  {
   "cell_type": "code",
   "execution_count": 19,
   "id": "1bb9f11f",
   "metadata": {},
   "outputs": [
    {
     "data": {
      "image/png": "[encoded data removed]",
      "text/plain": [
       "<Figure size 432x288 with 1 Axes>"
      ]
     },
     "metadata": {
      "needs_background": "light"
     },
     "output_type": "display_data"
    }
   ],
   "source": [
    "#Box Plot Bonus\n",
    "sns.boxplot(x='Bonus',data=df, color='skyblue' )\n",
    "\n",
    "\n",
    "plt.axvline(df['Bonus'].median(), color='k', linestyle='dashed', linewidth=2, label= 'Median')\n",
    "plt.axvline(df['Bonus'].quantile(0.25), color='k', linestyle='dashed', linewidth=2, label= '25%')\n",
    "plt.axvline(df['Bonus'].quantile(0.75), color='k', linestyle='dashed', linewidth=2, label= '75%')\n",
    "plt.axvline(df['Bonus'].max(), color='k', linestyle='dashed', linewidth=2, label= 'Max')\n",
    "plt.axvline(df['Bonus'].min(), color='k', linestyle='dashed', linewidth=2, label= 'Min')\n",
    "\n",
    "plt.show()"
   ]
  },
  {
   "cell_type": "code",
   "execution_count": 20,
   "id": "97f45133",
   "metadata": {},
   "outputs": [
    {
     "data": {
      "image/png": "[encoded data removed]",
      "text/plain": [
       "<Figure size 720x360 with 1 Axes>"
      ]
     },
     "metadata": {
      "needs_background": "light"
     },
     "output_type": "display_data"
    },
    {
     "name": "stdout",
     "output_type": "stream",
     "text": [
      "0.9571400469829039\n"
     ]
    }
   ],
   "source": [
    "# Distribution of DistanceFromHome\n",
    "\n",
    "\n",
    "plt.figure(figsize=(10,5))\n",
    "plt.hist(df['DistanceFromHome'], bins=10, edgecolor='black', color = 'skyblue')\n",
    "\n",
    "plt.axvline(df['DistanceFromHome'].median(), color='k', linestyle='dashed', linewidth=2, label= 'Median')\n",
    "plt.axvline(df['DistanceFromHome'].quantile(0.25), color='k', linestyle='dashed', linewidth=2, label= '25%')\n",
    "plt.axvline(df['DistanceFromHome'].quantile(0.75), color='k', linestyle='dashed', linewidth=2, label= '75%')\n",
    "plt.axvline(df['DistanceFromHome'].max(), color='k', linestyle='dashed', linewidth=2, label= 'Max')\n",
    "plt.axvline(df['DistanceFromHome'].min(), color='k', linestyle='dashed', linewidth=2, label= 'Min')\n",
    "\n",
    "plt.title('Distribution of Distance From Home')\n",
    "plt.xlabel('Distance From Home')\n",
    "plt.ylabel('Frequency')\n",
    "plt.xticks(rotation=90) #rotating the xlabel\n",
    "plt.show()\n",
    "\n",
    "print(skew(df['DistanceFromHome'], bias=True))"
   ]
  },
  {
   "cell_type": "code",
   "execution_count": 21,
   "id": "29413323",
   "metadata": {},
   "outputs": [
    {
     "data": {
      "image/png": "[encoded data removed]",
      "text/plain": [
       "<Figure size 432x288 with 1 Axes>"
      ]
     },
     "metadata": {
      "needs_background": "light"
     },
     "output_type": "display_data"
    }
   ],
   "source": [
    "#Box Plot Distance From Home\n",
    "sns.boxplot(x='DistanceFromHome',data=df, color='skyblue' )\n",
    "\n",
    "\n",
    "plt.axvline(df['DistanceFromHome'].median(), color='r', linestyle='dashed', linewidth=3, label= 'Median')\n",
    "plt.axvline(df['DistanceFromHome'].quantile(0.25), color='r', linestyle='dashed', linewidth=3, label= '25%')\n",
    "plt.axvline(df['DistanceFromHome'].quantile(0.75), color='r', linestyle='dashed', linewidth=3, label= '75%')\n",
    "plt.axvline(df['DistanceFromHome'].max(), color='r', linestyle='dashed', linewidth=3, label= 'Max')\n",
    "plt.axvline(df['DistanceFromHome'].min(), color='r', linestyle='dashed', linewidth=3, label= 'Min')\n",
    "\n",
    "plt.show()"
   ]
  },
  {
   "cell_type": "code",
   "execution_count": 22,
   "id": "2475b02f",
   "metadata": {},
   "outputs": [
    {
     "data": {
      "image/png": "[encoded data removed]",
      "text/plain": [
       "<Figure size 720x360 with 1 Axes>"
      ]
     },
     "metadata": {
      "needs_background": "light"
     },
     "output_type": "display_data"
    },
    {
     "name": "stdout",
     "output_type": "stream",
     "text": [
      "1.7627284034822992\n"
     ]
    }
   ],
   "source": [
    "#Distribution of YearsAtCompany\n",
    "\n",
    "plt.figure(figsize=(10,5))\n",
    "plt.hist(df['YearsAtCompany'], bins=10, color = 'skyblue')\n",
    "\n",
    "\n",
    "plt.axvline(df['YearsAtCompany'].median(), color='k', linestyle='dashed', linewidth=2, label= 'Median')\n",
    "plt.axvline(df['YearsAtCompany'].quantile(0.25), color='k', linestyle='dashed', linewidth=2, label= '25%')\n",
    "plt.axvline(df['YearsAtCompany'].quantile(0.75), color='k', linestyle='dashed', linewidth=2, label= '75%')\n",
    "plt.axvline(df['YearsAtCompany'].max(), color='k', linestyle='dashed', linewidth=2, label= 'Max')\n",
    "plt.axvline(df['YearsAtCompany'].min(), color='k', linestyle='dashed', linewidth=2, label= 'Min')\n",
    "\n",
    "plt.title('Distribution of Years at Company')\n",
    "plt.xlabel('Years at Company')\n",
    "plt.ylabel('Frequency')\n",
    "plt.xticks(rotation=90) #rotating the xlabel\n",
    "plt.show()\n",
    "\n",
    "print(skew(df['YearsAtCompany'], bias=True))"
   ]
  },
  {
   "cell_type": "code",
   "execution_count": 23,
   "id": "dc4ddec5",
   "metadata": {},
   "outputs": [
    {
     "data": {
      "image/png": "[encoded data removed]",
      "text/plain": [
       "<Figure size 432x288 with 1 Axes>"
      ]
     },
     "metadata": {
      "needs_background": "light"
     },
     "output_type": "display_data"
    }
   ],
   "source": [
    "#Box Plot Distance From Home\n",
    "sns.boxplot(x='YearsAtCompany',data=df, color='skyblue' )\n",
    "\n",
    "\n",
    "plt.axvline(df['YearsAtCompany'].median(), color='k', linestyle='dashed', linewidth=2, label= 'Median')\n",
    "plt.axvline(df['YearsAtCompany'].quantile(0.25), color='k', linestyle='dashed', linewidth=2, label= '25%')\n",
    "plt.axvline(df['YearsAtCompany'].quantile(0.75), color='k', linestyle='dashed', linewidth=2, label= '75%')\n",
    "plt.axvline(df['YearsAtCompany'].max(), color='k', linestyle='dashed', linewidth=2, label= 'Max')\n",
    "plt.axvline(df['YearsAtCompany'].min(), color='k', linestyle='dashed', linewidth=2, label= 'Min')\n",
    "\n",
    "\n",
    "plt.show()"
   ]
  },
  {
   "cell_type": "code",
   "execution_count": 24,
   "id": "ddab3a69",
   "metadata": {},
   "outputs": [
    {
     "data": {
      "text/plain": [
       "count    1470.000000\n",
       "mean        7.008163\n",
       "std         6.126525\n",
       "min         0.000000\n",
       "25%         3.000000\n",
       "50%         5.000000\n",
       "75%         9.000000\n",
       "max        40.000000\n",
       "Name: YearsAtCompany, dtype: float64"
      ]
     },
     "execution_count": 24,
     "metadata": {},
     "output_type": "execute_result"
    }
   ],
   "source": [
    "df['YearsAtCompany'].describe()"
   ]
  },
  {
   "cell_type": "code",
   "execution_count": 25,
   "id": "3a906877",
   "metadata": {},
   "outputs": [
    {
     "data": {
      "image/png": "[encoded data removed]",
      "text/plain": [
       "<Figure size 864x576 with 2 Axes>"
      ]
     },
     "metadata": {
      "needs_background": "light"
     },
     "output_type": "display_data"
    }
   ],
   "source": [
    "# Heatmap correlation\n",
    "plt.figure(figsize=(12,8))\n",
    "\n",
    "sns.heatmap(df.corr(),cmap='coolwarm', annot=True)\n",
    "\n",
    "plt.show()"
   ]
  },
  {
   "cell_type": "markdown",
   "id": "811c9494",
   "metadata": {},
   "source": [
    "# MULTIVARIATE ANALYSIS (Independen T-Test & Chi Squared Test)"
   ]
  },
  {
   "cell_type": "markdown",
   "id": "d50a28f3",
   "metadata": {},
   "source": [
    "##  1. What is the relationship between `Age` and `MonthlyIncome`? Does `Age` affect `MonthlyIncome`?"
   ]
  },
  {
   "cell_type": "code",
   "execution_count": 26,
   "id": "91a2867e",
   "metadata": {},
   "outputs": [
    {
     "data": {
      "image/png": "[encoded data removed]",
      "text/plain": [
       "<Figure size 864x360 with 1 Axes>"
      ]
     },
     "metadata": {
      "needs_background": "light"
     },
     "output_type": "display_data"
    }
   ],
   "source": [
    "#Scatter plot Age vs MonthlyIncome\n",
    "\n",
    "plt.figure(figsize=(12,5))\n",
    "plt.scatter(df['MonthlyIncome'], df['Age'])\n",
    "\n",
    "plt.title('Monthly Income vs Age')\n",
    "plt.ylabel('Age')\n",
    "plt.xlabel('Monthly Income')\n",
    "plt.show()"
   ]
  },
  {
   "cell_type": "code",
   "execution_count": 27,
   "id": "946169be",
   "metadata": {},
   "outputs": [
    {
     "name": "stdout",
     "output_type": "stream",
     "text": [
      "The correlation coefficient is 0.5\n"
     ]
    },
    {
     "data": {
      "image/png": "[encoded data removed]",
      "text/plain": [
       "<Figure size 360x216 with 2 Axes>"
      ]
     },
     "metadata": {
      "needs_background": "light"
     },
     "output_type": "display_data"
    }
   ],
   "source": [
    "# Measure the strength relationship between age and monthlyincome\n",
    "\n",
    "# create a dataframe for Age and MonthlyIncome\n",
    "age_month = df[['Age', 'MonthlyIncome']]\n",
    "\n",
    "# Compute correlation for Age and MonthlyIncome\n",
    "corr_1 = df['Age'].corr(df['MonthlyIncome'])\n",
    "print(\"The correlation coefficient is\", (corr_1).round(2))\n",
    "\n",
    "# Heatmap correlation\n",
    "plt.figure(figsize=(5,3))\n",
    "\n",
    "sns.heatmap(age_month.corr(),cmap='coolwarm', annot=True)\n",
    "\n",
    "plt.show()"
   ]
  },
  {
   "cell_type": "markdown",
   "id": "0feca773",
   "metadata": {},
   "source": [
    "## 2. What is the relationship between `Age` and `Bonus`?  Does the `Age` affect the `Bonus`?"
   ]
  },
  {
   "cell_type": "code",
   "execution_count": 28,
   "id": "ae9a83e5",
   "metadata": {},
   "outputs": [
    {
     "data": {
      "image/png": "[encoded data removed]",
      "text/plain": [
       "<Figure size 864x360 with 1 Axes>"
      ]
     },
     "metadata": {
      "needs_background": "light"
     },
     "output_type": "display_data"
    }
   ],
   "source": [
    "#Scatter plot Age vs Bonus\n",
    "\n",
    "plt.figure(figsize=(12,5))\n",
    "plt.scatter(df['Bonus'], df['Age'])\n",
    "\n",
    "plt.title('Age vs Bonus')\n",
    "plt.ylabel('Age')\n",
    "plt.xlabel('Bonus')\n",
    "plt.show()"
   ]
  },
  {
   "cell_type": "code",
   "execution_count": 29,
   "id": "1974b7f5",
   "metadata": {},
   "outputs": [
    {
     "name": "stdout",
     "output_type": "stream",
     "text": [
      "The correlation coefficient is 0.49\n"
     ]
    },
    {
     "data": {
      "image/png": "[encoded data removed]",
      "text/plain": [
       "<Figure size 360x216 with 2 Axes>"
      ]
     },
     "metadata": {
      "needs_background": "light"
     },
     "output_type": "display_data"
    }
   ],
   "source": [
    "# Measure the strength relationship between age and monthlyincome\n",
    "\n",
    "# create a dataframe for Age and MonthlyIncome\n",
    "age_bonus=df[['Age', 'Bonus']]\n",
    "\n",
    "# Compute correlation for Age and MonthlyIncome\n",
    "corr_2 = df['Age'].corr(df['Bonus'])\n",
    "print(\"The correlation coefficient is\", (corr_2).round(2))\n",
    "\n",
    "# Heatmap correlation\n",
    "plt.figure(figsize=(5,3))\n",
    "\n",
    "sns.heatmap(age_bonus.corr(),cmap='coolwarm', annot=True)\n",
    "\n",
    "plt.show()"
   ]
  },
  {
   "cell_type": "markdown",
   "id": "374f6a89",
   "metadata": {},
   "source": [
    "## 3. Which `Age` group affect employee's `Attrition`? "
   ]
  },
  {
   "cell_type": "code",
   "execution_count": 30,
   "id": "6cde22f4",
   "metadata": {},
   "outputs": [
    {
     "name": "stdout",
     "output_type": "stream",
     "text": [
      "  Attrition   Age\n",
      "0        No  37.6\n",
      "1       Yes  33.6\n"
     ]
    },
    {
     "data": {
      "image/png": "[encoded data removed]",
      "text/plain": [
       "<Figure size 576x576 with 1 Axes>"
      ]
     },
     "metadata": {
      "needs_background": "light"
     },
     "output_type": "display_data"
    }
   ],
   "source": [
    "#Compute the mean of Age for each classes in Attrition (Yes & No)\n",
    "\n",
    "meanAge_attrition = df.groupby('Attrition', as_index=False)['Age'].mean()\n",
    "print(meanAge_attrition.round(1))\n",
    "\n",
    "\n",
    "# Create boxplot\n",
    "\n",
    "plt.figure(figsize=(8,8))\n",
    "sns.boxplot(x='Attrition', y='Age', data=df)\n",
    "plt.show()"
   ]
  },
  {
   "cell_type": "code",
   "execution_count": 31,
   "id": "a81f4f3d",
   "metadata": {},
   "outputs": [
    {
     "name": "stdout",
     "output_type": "stream",
     "text": [
      "LeveneResult(statistic=1.1583170677572885, pvalue=0.2819916793250208)\n",
      "Ttest_indResult(statistic=6.1786638353072165, pvalue=8.356308021103649e-10)\n"
     ]
    }
   ],
   "source": [
    "#Calculate levene test to get variance of each variable\n",
    "\n",
    "print(stats.levene(df['Age'][df['Attrition']=='No'],\n",
    "             df['Age'][df['Attrition']=='Yes'],\n",
    "            center='mean'))\n",
    "\n",
    "# Independence T-test\n",
    "\n",
    "print(stats.ttest_ind(df['Age'][df['Attrition']=='No'],\n",
    "             df['Age'][df['Attrition']=='Yes'],\n",
    "             equal_var=True))"
   ]
  },
  {
   "cell_type": "markdown",
   "id": "36cd8a2a",
   "metadata": {},
   "source": [
    "## 4.  Does `BusinessTravel` affect `attrition`?"
   ]
  },
  {
   "cell_type": "code",
   "execution_count": 32,
   "id": "ab153136",
   "metadata": {},
   "outputs": [
    {
     "name": "stdout",
     "output_type": "stream",
     "text": [
      "BusinessTravel  Non-Travel  Travel_Frequently  Travel_Rarely\n",
      "Attrition                                                   \n",
      "No                     138                208            887\n",
      "Yes                     12                 69            156\n",
      "\n",
      "Percentage\n",
      "BusinessTravel  Non-Travel  Travel_Frequently  Travel_Rarely\n",
      "Attrition                                                   \n",
      "No                    11.2               16.9           71.9\n",
      "Yes                    5.1               29.1           65.8\n"
     ]
    }
   ],
   "source": [
    "# Calculate the counts of Gender by Attrition\n",
    "travel_attrition = pd.crosstab(index=df['Attrition'], columns=df['BusinessTravel'])\n",
    "print(travel_attrition)\n",
    "\n",
    "\n",
    "\n",
    "print(\"\\nPercentage\")\n",
    "\n",
    "# Calculate percentage of Gender based on Attrition\n",
    "travel_attrition_prop = pd.crosstab(index=df['Attrition'], columns=df['BusinessTravel'], normalize='index')*100\n",
    "travel = travel_attrition_prop.round(1)\n",
    "print(travel)"
   ]
  },
  {
   "cell_type": "code",
   "execution_count": 33,
   "id": "c0e57731",
   "metadata": {},
   "outputs": [
    {
     "data": {
      "text/plain": [
       "<Figure size 864x360 with 0 Axes>"
      ]
     },
     "metadata": {},
     "output_type": "display_data"
    },
    {
     "data": {
      "image/png": "[encoded data removed]",
      "text/plain": [
       "<Figure size 432x288 with 1 Axes>"
      ]
     },
     "metadata": {
      "needs_background": "light"
     },
     "output_type": "display_data"
    }
   ],
   "source": [
    "plt.figure(figsize=(12,5))\n",
    "\n",
    "ax = travel.plot(kind='bar')\n",
    "plt.title('Attrition by Business Travel', size=14)\n",
    "plt.ylabel('Percent, %')\n",
    "plt.legend(loc = 'upper left',  bbox_to_anchor=(1, 1))\n",
    "\n",
    "# set the bar label\n",
    "for c in ax.containers:\n",
    "    ax.bar_label(c, label_type='edge')\n",
    "plt.xticks(rotation=90)\n",
    "plt.show()"
   ]
  },
  {
   "cell_type": "markdown",
   "id": "882ae0f3",
   "metadata": {},
   "source": [
    "## 4.1 Is there any significant difference of mean of `BusinessTravel` based on `Attrition`?"
   ]
  },
  {
   "cell_type": "code",
   "execution_count": 34,
   "id": "cbed2d62",
   "metadata": {},
   "outputs": [
    {
     "data": {
      "text/plain": [
       "0.0"
      ]
     },
     "execution_count": 34,
     "metadata": {},
     "output_type": "execute_result"
    }
   ],
   "source": [
    "c, p, dof, expected = stats.chi2_contingency(travel_attrition)\n",
    "p.round(2)"
   ]
  },
  {
   "cell_type": "markdown",
   "id": "7857c40d",
   "metadata": {},
   "source": [
    "## 5.0 Does the `MonthlyIncome` affect the `Attrition`? "
   ]
  },
  {
   "cell_type": "code",
   "execution_count": 35,
   "id": "9dc2b54e",
   "metadata": {},
   "outputs": [
    {
     "name": "stdout",
     "output_type": "stream",
     "text": [
      "  Attrition  MonthlyIncome\n",
      "0        No        6832.74\n",
      "1       Yes        4787.09\n"
     ]
    },
    {
     "data": {
      "image/png": "[encoded data removed]",
      "text/plain": [
       "<Figure size 720x360 with 1 Axes>"
      ]
     },
     "metadata": {
      "needs_background": "light"
     },
     "output_type": "display_data"
    }
   ],
   "source": [
    "#Compute the mean of MonthlyIncome for each classes in Attrition (Yes & No)\n",
    "\n",
    "meanIncome_attrition = df.groupby('Attrition', as_index=False)['MonthlyIncome'].mean()\n",
    "print(meanIncome_attrition.round(2))\n",
    "\n",
    "# Create boxplot\n",
    "\n",
    "plt.figure(figsize=(10,5))\n",
    "sns.boxplot(x='Attrition', y='MonthlyIncome', data=df)\n",
    "plt.show()"
   ]
  },
  {
   "cell_type": "markdown",
   "id": "b11bd1ee",
   "metadata": {},
   "source": [
    "## 5.1 Independence T-Test for `MonthlyIncome` and `Attrition`\n",
    "+ Null Hypothesis - There is no significant difference of mean of MonthlyIncome between No and Yes \n",
    "+ Alternative Hypothesis -There is  significant difference of mean of MonthlyIncome between No and Yes"
   ]
  },
  {
   "cell_type": "code",
   "execution_count": 36,
   "id": "e4474777",
   "metadata": {},
   "outputs": [
    {
     "name": "stdout",
     "output_type": "stream",
     "text": [
      "LeveneResult(statistic=26.31302358992364, pvalue=3.29070575711061e-07)\n",
      "Ttest_indResult(statistic=7.482621586644742, pvalue=4.433588628286071e-13)\n"
     ]
    }
   ],
   "source": [
    "#Calculate levene test to get variance of each variable\n",
    "\n",
    "print(stats.levene(df['MonthlyIncome'][df['Attrition']=='No'],\n",
    "             df['MonthlyIncome'][df['Attrition']=='Yes'],\n",
    "            center='mean'))\n",
    "\n",
    "# Independence T-test\n",
    "\n",
    "print(stats.ttest_ind(df['MonthlyIncome'][df['Attrition']=='No'],\n",
    "             df['MonthlyIncome'][df['Attrition']=='Yes'],\n",
    "             equal_var=False))\n"
   ]
  },
  {
   "cell_type": "markdown",
   "id": "99a0c2de",
   "metadata": {},
   "source": [
    "## 6.0  Does the `JobSatisfaction` affect employee's `Attrition`? "
   ]
  },
  {
   "cell_type": "code",
   "execution_count": 37,
   "id": "c66cda2d",
   "metadata": {},
   "outputs": [
    {
     "name": "stdout",
     "output_type": "stream",
     "text": [
      "  Attrition  JobSatisfaction\n",
      "0        No             2.78\n",
      "1       Yes             2.47\n"
     ]
    },
    {
     "data": {
      "image/png": "[encoded data removed]",
      "text/plain": [
       "<Figure size 576x576 with 1 Axes>"
      ]
     },
     "metadata": {
      "needs_background": "light"
     },
     "output_type": "display_data"
    }
   ],
   "source": [
    "#Compute the mean of Job Satisfaction for each classes in Attrition (Yes & No)\n",
    "\n",
    "meanJobs_attrition = df.groupby('Attrition', as_index=False)['JobSatisfaction'].mean()\n",
    "print(meanJobs_attrition.round(2))\n",
    "\n",
    "# Create boxplot\n",
    "plt.figure(figsize=(8,8))\n",
    "sns.boxplot(x='Attrition', y='JobSatisfaction', data=df)\n",
    "plt.show()"
   ]
  },
  {
   "cell_type": "code",
   "execution_count": 38,
   "id": "e3ac5fd4",
   "metadata": {},
   "outputs": [
    {
     "name": "stdout",
     "output_type": "stream",
     "text": [
      "LeveneResult(statistic=2.4265959250716285, pvalue=0.11950724122969081)\n",
      "Ttest_indResult(statistic=3.9862267630568273, pvalue=7.043066741731151e-05)\n"
     ]
    }
   ],
   "source": [
    "#Calculate levene test to get variance of each variable\n",
    "\n",
    "print(stats.levene(df['JobSatisfaction'][df['Attrition']=='No'],\n",
    "             df['JobSatisfaction'][df['Attrition']=='Yes'],\n",
    "            center='mean'))\n",
    "\n",
    "# Independence T-test\n",
    "\n",
    "print(stats.ttest_ind(df['JobSatisfaction'][df['Attrition']=='No'],\n",
    "             df['JobSatisfaction'][df['Attrition']=='Yes'],\n",
    "             equal_var=True))"
   ]
  },
  {
   "cell_type": "markdown",
   "id": "172c7f48",
   "metadata": {},
   "source": [
    "## 7.0 Does the `Bonus` affect employee's `Attrition`? "
   ]
  },
  {
   "cell_type": "code",
   "execution_count": 39,
   "id": "49af1677",
   "metadata": {},
   "outputs": [
    {
     "name": "stdout",
     "output_type": "stream",
     "text": [
      "  Attrition    Bonus\n",
      "0        No  21544.0\n",
      "1       Yes  14941.7\n"
     ]
    },
    {
     "data": {
      "image/png": "[encoded data removed]",
      "text/plain": [
       "<Figure size 576x576 with 1 Axes>"
      ]
     },
     "metadata": {
      "needs_background": "light"
     },
     "output_type": "display_data"
    }
   ],
   "source": [
    "#Compute the mean of Bonus for each classes (Yes & No)\n",
    "\n",
    "meanBonus_attrition = df.groupby('Attrition', as_index=False)['Bonus'].mean()\n",
    "print(meanBonus_attrition.round(1))\n",
    "\n",
    "# Plot histogram for better visual\n",
    "plt.figure(figsize=(8,8))\n",
    "sns.boxplot(x='Attrition', y='Bonus', data=df)\n",
    "plt.show()"
   ]
  },
  {
   "cell_type": "code",
   "execution_count": 40,
   "id": "f0c2a4b3",
   "metadata": {},
   "outputs": [
    {
     "name": "stdout",
     "output_type": "stream",
     "text": [
      "LeveneResult(statistic=31.611860459322592, pvalue=2.2502347973082613e-08)\n",
      "Ttest_indResult(statistic=7.831954710068883, pvalue=3.692333845137077e-14)\n"
     ]
    }
   ],
   "source": [
    "#Calculate levene test to get variance of each variable\n",
    "\n",
    "print(stats.levene(df['Bonus'][df['Attrition']=='No'],\n",
    "             df['Bonus'][df['Attrition']=='Yes'],\n",
    "            center='mean'))\n",
    "\n",
    "# Independence T-test\n",
    "\n",
    "print(stats.ttest_ind(df['Bonus'][df['Attrition']=='No'],\n",
    "             df['Bonus'][df['Attrition']=='Yes'],\n",
    "             equal_var=False))"
   ]
  },
  {
   "cell_type": "markdown",
   "id": "86146d1b",
   "metadata": {},
   "source": [
    "## 8.0 Which `Department`have higher `Attrition` rates? "
   ]
  },
  {
   "cell_type": "code",
   "execution_count": 41,
   "id": "49f8703b",
   "metadata": {},
   "outputs": [
    {
     "name": "stdout",
     "output_type": "stream",
     "text": [
      "Attrition                No  Yes\n",
      "Department                      \n",
      "Human Resources          51   12\n",
      "Research & Development  828  133\n",
      "Sales                   354   92\n",
      "\n",
      "Percentage\n",
      "Attrition                 No   Yes\n",
      "Department                        \n",
      "Human Resources         81.0  19.0\n",
      "Research & Development  86.2  13.8\n",
      "Sales                   79.4  20.6\n"
     ]
    }
   ],
   "source": [
    "# Calculate the counts of Department by Attrition\n",
    "department_attrition = pd.crosstab(index=df['Department'], columns=df['Attrition'])\n",
    "print(department_attrition)\n",
    "\n",
    "print(\"\\nPercentage\")\n",
    "\n",
    "# Calculate percentage of Department based on Attrition\n",
    "department_attrition_prop = pd.crosstab(index=df['Department'], columns=df['Attrition'], normalize='index')*100\n",
    "z= department_attrition_prop.round(1)\n",
    "print(z)"
   ]
  },
  {
   "cell_type": "code",
   "execution_count": 42,
   "id": "b958d932",
   "metadata": {},
   "outputs": [
    {
     "data": {
      "image/png": "[encoded data removed]",
      "text/plain": [
       "<Figure size 432x288 with 1 Axes>"
      ]
     },
     "metadata": {
      "needs_background": "light"
     },
     "output_type": "display_data"
    }
   ],
   "source": [
    "ax = z.plot(kind='bar')\n",
    "plt.title('Attrition by Department', size=14)\n",
    "plt.ylabel('Percent, %')\n",
    "plt.legend(loc = 'upper left',  bbox_to_anchor=(1, 1))\n",
    "\n",
    "# set the bar label\n",
    "for c in ax.containers:\n",
    "    ax.bar_label(c, label_type='edge')\n",
    "plt.xticks(rotation=90)\n",
    "plt.show()"
   ]
  },
  {
   "cell_type": "markdown",
   "id": "95d71848",
   "metadata": {},
   "source": [
    "## 8.1 Is there any significant difference of `Attrition` based on `Department`?"
   ]
  },
  {
   "cell_type": "code",
   "execution_count": 43,
   "id": "ebb8ee4c",
   "metadata": {},
   "outputs": [
    {
     "data": {
      "text/plain": [
       "0.0"
      ]
     },
     "execution_count": 43,
     "metadata": {},
     "output_type": "execute_result"
    }
   ],
   "source": [
    "c, p, dof, expected = stats.chi2_contingency(department_attrition)\n",
    "p.round(2)"
   ]
  },
  {
   "cell_type": "markdown",
   "id": "13c41625",
   "metadata": {},
   "source": [
    "## 9.0  Is the `DistanceFromHome` affect employee's `Attrition`? "
   ]
  },
  {
   "cell_type": "code",
   "execution_count": 44,
   "id": "ea581fd1",
   "metadata": {},
   "outputs": [
    {
     "name": "stdout",
     "output_type": "stream",
     "text": [
      "  Attrition  DistanceFromHome\n",
      "0        No               8.9\n",
      "1       Yes              10.6\n"
     ]
    },
    {
     "data": {
      "image/png": "[encoded data removed]",
      "text/plain": [
       "<Figure size 576x576 with 1 Axes>"
      ]
     },
     "metadata": {
      "needs_background": "light"
     },
     "output_type": "display_data"
    }
   ],
   "source": [
    "#Compute the mean of DistanceFromHome for each classes (Yes & No)\n",
    "\n",
    "meanDistance_attrition = df.groupby('Attrition', as_index=False)['DistanceFromHome'].mean()\n",
    "print(meanDistance_attrition.round(1))\n",
    "\n",
    "# Plot histogram for better visual\n",
    "\n",
    "plt.figure(figsize=(8,8))\n",
    "sns.boxplot(x='Attrition', y='DistanceFromHome', data=df)\n",
    "plt.show()"
   ]
  },
  {
   "cell_type": "code",
   "execution_count": 45,
   "id": "f7aeca13",
   "metadata": {},
   "outputs": [
    {
     "name": "stdout",
     "output_type": "stream",
     "text": [
      "LeveneResult(statistic=4.974146689763782, pvalue=0.025879557896104303)\n",
      "Ttest_indResult(statistic=-2.888183062817627, pvalue=0.004136511971511406)\n"
     ]
    }
   ],
   "source": [
    "#Calculate levene test to get variance of each variable\n",
    "\n",
    "print(stats.levene(df['DistanceFromHome'][df['Attrition']=='No'],\n",
    "             df['DistanceFromHome'][df['Attrition']=='Yes'],\n",
    "            center='mean'))\n",
    "\n",
    "\n",
    "# Independence T-test\n",
    "\n",
    "print(stats.ttest_ind(df['DistanceFromHome'][df['Attrition']=='No'],\n",
    "             df['DistanceFromHome'][df['Attrition']=='Yes'],\n",
    "             equal_var=False))"
   ]
  },
  {
   "cell_type": "markdown",
   "id": "efea3b24",
   "metadata": {},
   "source": [
    "## 10.0  Does the `EducationField` affect employee's `Attrition`? "
   ]
  },
  {
   "cell_type": "code",
   "execution_count": 46,
   "id": "bbbe54a3",
   "metadata": {},
   "outputs": [
    {
     "name": "stdout",
     "output_type": "stream",
     "text": [
      "Attrition          No  Yes\n",
      "EducationField            \n",
      "Human Resources    20    7\n",
      "Life Sciences     517   89\n",
      "Marketing         124   35\n",
      "Medical           401   63\n",
      "Other              71   11\n",
      "Technical Degree  100   32\n",
      "\n",
      "Percentage\n",
      "Attrition           No   Yes\n",
      "EducationField              \n",
      "Human Resources   74.1  25.9\n",
      "Life Sciences     85.3  14.7\n",
      "Marketing         78.0  22.0\n",
      "Medical           86.4  13.6\n",
      "Other             86.6  13.4\n",
      "Technical Degree  75.8  24.2\n"
     ]
    },
    {
     "data": {
      "image/png": "[encoded data removed]",
      "text/plain": [
       "<Figure size 432x288 with 1 Axes>"
      ]
     },
     "metadata": {
      "needs_background": "light"
     },
     "output_type": "display_data"
    }
   ],
   "source": [
    "# Calculate the counts of EducationField by Attrition\n",
    "eduField_attrition = pd.crosstab(index=df['EducationField'], columns=df['Attrition'])\n",
    "print(eduField_attrition)\n",
    "\n",
    "print(\"\\nPercentage\")\n",
    "\n",
    "# Calculate percentage of Department based on Attrition\n",
    "eduField_attrition_prop = pd.crosstab(index=df['EducationField'], columns=df['Attrition'], normalize='index')*100\n",
    "eduField= eduField_attrition_prop.round(1)\n",
    "print(eduField)\n",
    "\n",
    "ax = eduField.plot(kind='bar')\n",
    "plt.title('Attrition by EducationField', size=14)\n",
    "plt.ylabel('Percent, %')\n",
    "plt.legend(loc = 'upper left',  bbox_to_anchor=(1, 1))\n",
    "\n",
    "# set the bar label\n",
    "for c in ax.containers:\n",
    "    ax.bar_label(c, label_type='edge')\n",
    "plt.xticks(rotation=90)\n",
    "plt.show()"
   ]
  },
  {
   "cell_type": "markdown",
   "id": "93bc704a",
   "metadata": {},
   "source": [
    "## 10.1 Is there any significant difference of `Attrition` based on `EducationField`?"
   ]
  },
  {
   "cell_type": "code",
   "execution_count": 47,
   "id": "3788bdb4",
   "metadata": {},
   "outputs": [
    {
     "data": {
      "text/plain": [
       "0.01"
      ]
     },
     "execution_count": 47,
     "metadata": {},
     "output_type": "execute_result"
    }
   ],
   "source": [
    "c, p, dof, expected = stats.chi2_contingency(eduField_attrition)\n",
    "p.round(2)"
   ]
  },
  {
   "cell_type": "markdown",
   "id": "11f64a3b",
   "metadata": {},
   "source": [
    "## 11.0 Is the `EnvSatisfaction` affect employee's `Attrition`? "
   ]
  },
  {
   "cell_type": "code",
   "execution_count": 48,
   "id": "96534798",
   "metadata": {},
   "outputs": [
    {
     "name": "stdout",
     "output_type": "stream",
     "text": [
      "  Attrition  EnvSatisfaction\n",
      "0        No              2.8\n",
      "1       Yes              2.5\n"
     ]
    },
    {
     "data": {
      "image/png": "[encoded data removed]",
      "text/plain": [
       "<Figure size 576x576 with 1 Axes>"
      ]
     },
     "metadata": {
      "needs_background": "light"
     },
     "output_type": "display_data"
    }
   ],
   "source": [
    "#Compute the mean of EnvSatisfaction for each classes (Yes & No)\n",
    "\n",
    "meanEnv_attrition = df.groupby('Attrition', as_index=False)['EnvSatisfaction'].mean()\n",
    "print(meanEnv_attrition.round(1))\n",
    "\n",
    "\n",
    "# Plot histogram for better visual\n",
    "\n",
    "plt.figure(figsize=(8,8))\n",
    "sns.boxplot(x='Attrition', y='EnvSatisfaction', data=df)\n",
    "plt.show()"
   ]
  },
  {
   "cell_type": "code",
   "execution_count": 49,
   "id": "2248a8ed",
   "metadata": {},
   "outputs": [
    {
     "name": "stdout",
     "output_type": "stream",
     "text": [
      "LeveneResult(statistic=13.678094134249502, pvalue=0.00022496812287863818)\n",
      "Ttest_indResult(statistic=3.7512571857971873, pvalue=0.0002092053345883392)\n"
     ]
    }
   ],
   "source": [
    "#Calculate levene test to get variance of each variable\n",
    "\n",
    "print(stats.levene(df['EnvSatisfaction'][df['Attrition']=='No'],\n",
    "             df['EnvSatisfaction'][df['Attrition']=='Yes'],\n",
    "            center='mean'))\n",
    "\n",
    "# Independence T-test\n",
    "\n",
    "print(stats.ttest_ind(df['EnvSatisfaction'][df['Attrition']=='No'],\n",
    "             df['EnvSatisfaction'][df['Attrition']=='Yes'],\n",
    "                equal_var=False))"
   ]
  },
  {
   "cell_type": "markdown",
   "id": "86385ae5",
   "metadata": {},
   "source": [
    "## 12.0 Which `Gender` has high `Attrition` rate?\n"
   ]
  },
  {
   "cell_type": "code",
   "execution_count": 50,
   "id": "31ad617a",
   "metadata": {},
   "outputs": [
    {
     "name": "stdout",
     "output_type": "stream",
     "text": [
      "1470\n",
      "Gender     Female  Male\n",
      "Attrition              \n",
      "No            501   732\n",
      "Yes            87   150\n",
      "Gender     Female  Male\n",
      "Attrition              \n",
      "No           40.6  59.4\n",
      "Yes          36.7  63.3\n"
     ]
    },
    {
     "data": {
      "image/png": "[encoded data removed]",
      "text/plain": [
       "<Figure size 432x288 with 1 Axes>"
      ]
     },
     "metadata": {
      "needs_background": "light"
     },
     "output_type": "display_data"
    }
   ],
   "source": [
    "#Calculate total employee\n",
    "total_employee =len(df)\n",
    "print(total_employee)\n",
    "\n",
    "# Calculate the counts of Gender by Attrition\n",
    "gender_attrition = pd.crosstab(index=df['Attrition'], columns=df['Gender'])\n",
    "print(gender_attrition)\n",
    "\n",
    "# Calculate percentage of Gender based on Attrition\n",
    "gender_attrition_prop = pd.crosstab(index=df['Attrition'], columns=df['Gender'], normalize='index')*100\n",
    "gen = gender_attrition_prop.round(1)\n",
    "print(gen)\n",
    "\n",
    "\n",
    "ax = gen.plot(kind='bar')\n",
    "plt.title('Gender by Attrition', size=14)\n",
    "plt.ylabel('Percent, %')\n",
    "plt.legend(loc = 'upper left',  bbox_to_anchor=(1, 1))\n",
    "\n",
    "# set the bar label\n",
    "for c in ax.containers:\n",
    "    ax.bar_label(c, label_type='edge')\n",
    "plt.xticks(rotation=0)\n",
    "plt.show()\n"
   ]
  },
  {
   "cell_type": "markdown",
   "id": "59d36de2",
   "metadata": {},
   "source": [
    "## 12.1 Is there any significant difference of mean`Gender` based on `Attrition`?"
   ]
  },
  {
   "cell_type": "code",
   "execution_count": 51,
   "id": "6a1d51a4",
   "metadata": {
    "scrolled": true
   },
   "outputs": [
    {
     "data": {
      "text/plain": [
       "0.29"
      ]
     },
     "execution_count": 51,
     "metadata": {},
     "output_type": "execute_result"
    }
   ],
   "source": [
    "c, p, dof, expected = stats.chi2_contingency(gender_attrition)\n",
    "p.round(2)"
   ]
  },
  {
   "cell_type": "markdown",
   "id": "12d1b9fc",
   "metadata": {},
   "source": [
    " ## 13.0. Which `JobRole has higher `Attrition` rates?"
   ]
  },
  {
   "cell_type": "code",
   "execution_count": 52,
   "id": "bc8bdf3e",
   "metadata": {
    "scrolled": true
   },
   "outputs": [
    {
     "data": {
      "text/html": [
       "<div>\n",
       "<style scoped>\n",
       "    .dataframe tbody tr th:only-of-type {\n",
       "        vertical-align: middle;\n",
       "    }\n",
       "\n",
       "    .dataframe tbody tr th {\n",
       "        vertical-align: top;\n",
       "    }\n",
       "\n",
       "    .dataframe thead th {\n",
       "        text-align: right;\n",
       "    }\n",
       "</style>\n",
       "<table border=\"1\" class=\"dataframe\">\n",
       "  <thead>\n",
       "    <tr style=\"text-align: right;\">\n",
       "      <th>JobRole</th>\n",
       "      <th>Healthcare Representative</th>\n",
       "      <th>Human Resources</th>\n",
       "      <th>Laboratory Technician</th>\n",
       "      <th>Manager</th>\n",
       "      <th>Manufacturing Director</th>\n",
       "      <th>Research Director</th>\n",
       "      <th>Research Scientist</th>\n",
       "      <th>Sales Executive</th>\n",
       "      <th>Sales Representative</th>\n",
       "    </tr>\n",
       "    <tr>\n",
       "      <th>Attrition</th>\n",
       "      <th></th>\n",
       "      <th></th>\n",
       "      <th></th>\n",
       "      <th></th>\n",
       "      <th></th>\n",
       "      <th></th>\n",
       "      <th></th>\n",
       "      <th></th>\n",
       "      <th></th>\n",
       "    </tr>\n",
       "  </thead>\n",
       "  <tbody>\n",
       "    <tr>\n",
       "      <th>No</th>\n",
       "      <td>122</td>\n",
       "      <td>40</td>\n",
       "      <td>197</td>\n",
       "      <td>97</td>\n",
       "      <td>135</td>\n",
       "      <td>78</td>\n",
       "      <td>245</td>\n",
       "      <td>269</td>\n",
       "      <td>50</td>\n",
       "    </tr>\n",
       "    <tr>\n",
       "      <th>Yes</th>\n",
       "      <td>9</td>\n",
       "      <td>12</td>\n",
       "      <td>62</td>\n",
       "      <td>5</td>\n",
       "      <td>10</td>\n",
       "      <td>2</td>\n",
       "      <td>47</td>\n",
       "      <td>57</td>\n",
       "      <td>33</td>\n",
       "    </tr>\n",
       "  </tbody>\n",
       "</table>\n",
       "</div>"
      ],
      "text/plain": [
       "JobRole    Healthcare Representative  Human Resources  Laboratory Technician  \\\n",
       "Attrition                                                                      \n",
       "No                               122               40                    197   \n",
       "Yes                                9               12                     62   \n",
       "\n",
       "JobRole    Manager  Manufacturing Director  Research Director  \\\n",
       "Attrition                                                       \n",
       "No              97                     135                 78   \n",
       "Yes              5                      10                  2   \n",
       "\n",
       "JobRole    Research Scientist  Sales Executive  Sales Representative  \n",
       "Attrition                                                             \n",
       "No                        245              269                    50  \n",
       "Yes                        47               57                    33  "
      ]
     },
     "execution_count": 52,
     "metadata": {},
     "output_type": "execute_result"
    }
   ],
   "source": [
    "# Calculate the counts of Gender by Attrition\n",
    "role_attrition = pd.crosstab(index=df['Attrition'], columns=df['JobRole'])\n",
    "role_attrition"
   ]
  },
  {
   "cell_type": "code",
   "execution_count": 53,
   "id": "d54dc4b6",
   "metadata": {},
   "outputs": [
    {
     "data": {
      "text/html": [
       "<div>\n",
       "<style scoped>\n",
       "    .dataframe tbody tr th:only-of-type {\n",
       "        vertical-align: middle;\n",
       "    }\n",
       "\n",
       "    .dataframe tbody tr th {\n",
       "        vertical-align: top;\n",
       "    }\n",
       "\n",
       "    .dataframe thead th {\n",
       "        text-align: right;\n",
       "    }\n",
       "</style>\n",
       "<table border=\"1\" class=\"dataframe\">\n",
       "  <thead>\n",
       "    <tr style=\"text-align: right;\">\n",
       "      <th>JobRole</th>\n",
       "      <th>Healthcare Representative</th>\n",
       "      <th>Human Resources</th>\n",
       "      <th>Laboratory Technician</th>\n",
       "      <th>Manager</th>\n",
       "      <th>Manufacturing Director</th>\n",
       "      <th>Research Director</th>\n",
       "      <th>Research Scientist</th>\n",
       "      <th>Sales Executive</th>\n",
       "      <th>Sales Representative</th>\n",
       "    </tr>\n",
       "    <tr>\n",
       "      <th>Attrition</th>\n",
       "      <th></th>\n",
       "      <th></th>\n",
       "      <th></th>\n",
       "      <th></th>\n",
       "      <th></th>\n",
       "      <th></th>\n",
       "      <th></th>\n",
       "      <th></th>\n",
       "      <th></th>\n",
       "    </tr>\n",
       "  </thead>\n",
       "  <tbody>\n",
       "    <tr>\n",
       "      <th>No</th>\n",
       "      <td>9.9</td>\n",
       "      <td>3.2</td>\n",
       "      <td>16.0</td>\n",
       "      <td>7.9</td>\n",
       "      <td>10.9</td>\n",
       "      <td>6.3</td>\n",
       "      <td>19.9</td>\n",
       "      <td>21.8</td>\n",
       "      <td>4.1</td>\n",
       "    </tr>\n",
       "    <tr>\n",
       "      <th>Yes</th>\n",
       "      <td>3.8</td>\n",
       "      <td>5.1</td>\n",
       "      <td>26.2</td>\n",
       "      <td>2.1</td>\n",
       "      <td>4.2</td>\n",
       "      <td>0.8</td>\n",
       "      <td>19.8</td>\n",
       "      <td>24.1</td>\n",
       "      <td>13.9</td>\n",
       "    </tr>\n",
       "  </tbody>\n",
       "</table>\n",
       "</div>"
      ],
      "text/plain": [
       "JobRole    Healthcare Representative  Human Resources  Laboratory Technician  \\\n",
       "Attrition                                                                      \n",
       "No                               9.9              3.2                   16.0   \n",
       "Yes                              3.8              5.1                   26.2   \n",
       "\n",
       "JobRole    Manager  Manufacturing Director  Research Director  \\\n",
       "Attrition                                                       \n",
       "No             7.9                    10.9                6.3   \n",
       "Yes            2.1                     4.2                0.8   \n",
       "\n",
       "JobRole    Research Scientist  Sales Executive  Sales Representative  \n",
       "Attrition                                                             \n",
       "No                       19.9             21.8                   4.1  \n",
       "Yes                      19.8             24.1                  13.9  "
      ]
     },
     "execution_count": 53,
     "metadata": {},
     "output_type": "execute_result"
    }
   ],
   "source": [
    "# Calculate percentage of Gender based on Attrition\n",
    "role_attrition_prop = pd.crosstab(index=df['Attrition'], columns=df['JobRole'], normalize='index')*100\n",
    "role = role_attrition_prop.round(1)\n",
    "role"
   ]
  },
  {
   "cell_type": "code",
   "execution_count": 54,
   "id": "de0cda9e",
   "metadata": {},
   "outputs": [
    {
     "data": {
      "image/png": "[encoded data removed]",
      "text/plain": [
       "<Figure size 432x288 with 1 Axes>"
      ]
     },
     "metadata": {
      "needs_background": "light"
     },
     "output_type": "display_data"
    }
   ],
   "source": [
    "ax = role.plot(kind='bar')\n",
    "plt.title('JobRole by Attrition', size=14)\n",
    "plt.ylabel('Percent, %')\n",
    "plt.legend(loc = 'upper left',  bbox_to_anchor=(1, 1))\n",
    "\n",
    "\n",
    "plt.xticks(rotation=90)\n",
    "plt.show()"
   ]
  },
  {
   "cell_type": "markdown",
   "id": "0f71863a",
   "metadata": {},
   "source": [
    "## 13.1 Is there any significant difference of mean of `JobRole` based on `Attrition`?"
   ]
  },
  {
   "cell_type": "code",
   "execution_count": 55,
   "id": "a9ac32ad",
   "metadata": {},
   "outputs": [
    {
     "data": {
      "text/plain": [
       "2.752481638050657e-15"
      ]
     },
     "execution_count": 55,
     "metadata": {},
     "output_type": "execute_result"
    }
   ],
   "source": [
    "c, p, dof, expected = stats.chi2_contingency(role_attrition)\n",
    "p"
   ]
  },
  {
   "cell_type": "code",
   "execution_count": 56,
   "id": "9f5937d8",
   "metadata": {},
   "outputs": [
    {
     "data": {
      "text/html": [
       "<div>\n",
       "<style scoped>\n",
       "    .dataframe tbody tr th:only-of-type {\n",
       "        vertical-align: middle;\n",
       "    }\n",
       "\n",
       "    .dataframe tbody tr th {\n",
       "        vertical-align: top;\n",
       "    }\n",
       "\n",
       "    .dataframe thead th {\n",
       "        text-align: right;\n",
       "    }\n",
       "</style>\n",
       "<table border=\"1\" class=\"dataframe\">\n",
       "  <thead>\n",
       "    <tr style=\"text-align: right;\">\n",
       "      <th>BusinessTravel</th>\n",
       "      <th>Non-Travel</th>\n",
       "      <th>Travel_Frequently</th>\n",
       "      <th>Travel_Rarely</th>\n",
       "    </tr>\n",
       "    <tr>\n",
       "      <th>JobRole</th>\n",
       "      <th></th>\n",
       "      <th></th>\n",
       "      <th></th>\n",
       "    </tr>\n",
       "  </thead>\n",
       "  <tbody>\n",
       "    <tr>\n",
       "      <th>Healthcare Representative</th>\n",
       "      <td>15</td>\n",
       "      <td>26</td>\n",
       "      <td>90</td>\n",
       "    </tr>\n",
       "    <tr>\n",
       "      <th>Human Resources</th>\n",
       "      <td>4</td>\n",
       "      <td>10</td>\n",
       "      <td>38</td>\n",
       "    </tr>\n",
       "    <tr>\n",
       "      <th>Laboratory Technician</th>\n",
       "      <td>28</td>\n",
       "      <td>51</td>\n",
       "      <td>180</td>\n",
       "    </tr>\n",
       "    <tr>\n",
       "      <th>Manager</th>\n",
       "      <td>12</td>\n",
       "      <td>13</td>\n",
       "      <td>77</td>\n",
       "    </tr>\n",
       "    <tr>\n",
       "      <th>Manufacturing Director</th>\n",
       "      <td>13</td>\n",
       "      <td>29</td>\n",
       "      <td>103</td>\n",
       "    </tr>\n",
       "    <tr>\n",
       "      <th>Research Director</th>\n",
       "      <td>6</td>\n",
       "      <td>12</td>\n",
       "      <td>62</td>\n",
       "    </tr>\n",
       "    <tr>\n",
       "      <th>Research Scientist</th>\n",
       "      <td>28</td>\n",
       "      <td>54</td>\n",
       "      <td>210</td>\n",
       "    </tr>\n",
       "    <tr>\n",
       "      <th>Sales Executive</th>\n",
       "      <td>39</td>\n",
       "      <td>59</td>\n",
       "      <td>228</td>\n",
       "    </tr>\n",
       "    <tr>\n",
       "      <th>Sales Representative</th>\n",
       "      <td>5</td>\n",
       "      <td>23</td>\n",
       "      <td>55</td>\n",
       "    </tr>\n",
       "  </tbody>\n",
       "</table>\n",
       "</div>"
      ],
      "text/plain": [
       "BusinessTravel             Non-Travel  Travel_Frequently  Travel_Rarely\n",
       "JobRole                                                                \n",
       "Healthcare Representative          15                 26             90\n",
       "Human Resources                     4                 10             38\n",
       "Laboratory Technician              28                 51            180\n",
       "Manager                            12                 13             77\n",
       "Manufacturing Director             13                 29            103\n",
       "Research Director                   6                 12             62\n",
       "Research Scientist                 28                 54            210\n",
       "Sales Executive                    39                 59            228\n",
       "Sales Representative                5                 23             55"
      ]
     },
     "execution_count": 56,
     "metadata": {},
     "output_type": "execute_result"
    }
   ],
   "source": [
    "# Calculate the counts of BusinessTravel by JobRole\n",
    "travel_jobRole = pd.crosstab(index=df['JobRole'], columns=df['BusinessTravel'])\n",
    "travel_jobRole"
   ]
  },
  {
   "cell_type": "code",
   "execution_count": 57,
   "id": "b920069c",
   "metadata": {},
   "outputs": [
    {
     "data": {
      "text/html": [
       "<div>\n",
       "<style scoped>\n",
       "    .dataframe tbody tr th:only-of-type {\n",
       "        vertical-align: middle;\n",
       "    }\n",
       "\n",
       "    .dataframe tbody tr th {\n",
       "        vertical-align: top;\n",
       "    }\n",
       "\n",
       "    .dataframe thead th {\n",
       "        text-align: right;\n",
       "    }\n",
       "</style>\n",
       "<table border=\"1\" class=\"dataframe\">\n",
       "  <thead>\n",
       "    <tr style=\"text-align: right;\">\n",
       "      <th>BusinessTravel</th>\n",
       "      <th>Non-Travel</th>\n",
       "      <th>Travel_Frequently</th>\n",
       "      <th>Travel_Rarely</th>\n",
       "    </tr>\n",
       "    <tr>\n",
       "      <th>JobRole</th>\n",
       "      <th></th>\n",
       "      <th></th>\n",
       "      <th></th>\n",
       "    </tr>\n",
       "  </thead>\n",
       "  <tbody>\n",
       "    <tr>\n",
       "      <th>Healthcare Representative</th>\n",
       "      <td>11.5</td>\n",
       "      <td>19.8</td>\n",
       "      <td>68.7</td>\n",
       "    </tr>\n",
       "    <tr>\n",
       "      <th>Human Resources</th>\n",
       "      <td>7.7</td>\n",
       "      <td>19.2</td>\n",
       "      <td>73.1</td>\n",
       "    </tr>\n",
       "    <tr>\n",
       "      <th>Laboratory Technician</th>\n",
       "      <td>10.8</td>\n",
       "      <td>19.7</td>\n",
       "      <td>69.5</td>\n",
       "    </tr>\n",
       "    <tr>\n",
       "      <th>Manager</th>\n",
       "      <td>11.8</td>\n",
       "      <td>12.7</td>\n",
       "      <td>75.5</td>\n",
       "    </tr>\n",
       "    <tr>\n",
       "      <th>Manufacturing Director</th>\n",
       "      <td>9.0</td>\n",
       "      <td>20.0</td>\n",
       "      <td>71.0</td>\n",
       "    </tr>\n",
       "    <tr>\n",
       "      <th>Research Director</th>\n",
       "      <td>7.5</td>\n",
       "      <td>15.0</td>\n",
       "      <td>77.5</td>\n",
       "    </tr>\n",
       "    <tr>\n",
       "      <th>Research Scientist</th>\n",
       "      <td>9.6</td>\n",
       "      <td>18.5</td>\n",
       "      <td>71.9</td>\n",
       "    </tr>\n",
       "    <tr>\n",
       "      <th>Sales Executive</th>\n",
       "      <td>12.0</td>\n",
       "      <td>18.1</td>\n",
       "      <td>69.9</td>\n",
       "    </tr>\n",
       "    <tr>\n",
       "      <th>Sales Representative</th>\n",
       "      <td>6.0</td>\n",
       "      <td>27.7</td>\n",
       "      <td>66.3</td>\n",
       "    </tr>\n",
       "  </tbody>\n",
       "</table>\n",
       "</div>"
      ],
      "text/plain": [
       "BusinessTravel             Non-Travel  Travel_Frequently  Travel_Rarely\n",
       "JobRole                                                                \n",
       "Healthcare Representative        11.5               19.8           68.7\n",
       "Human Resources                   7.7               19.2           73.1\n",
       "Laboratory Technician            10.8               19.7           69.5\n",
       "Manager                          11.8               12.7           75.5\n",
       "Manufacturing Director            9.0               20.0           71.0\n",
       "Research Director                 7.5               15.0           77.5\n",
       "Research Scientist                9.6               18.5           71.9\n",
       "Sales Executive                  12.0               18.1           69.9\n",
       "Sales Representative              6.0               27.7           66.3"
      ]
     },
     "execution_count": 57,
     "metadata": {},
     "output_type": "execute_result"
    }
   ],
   "source": [
    "# Calculate percentage of BusinessTravel by JobRole\n",
    "travel_jobRole_prop = pd.crosstab(index=df['JobRole'], columns=df['BusinessTravel'], normalize='index')*100\n",
    "travel_job = travel_jobRole_prop.round(1)\n",
    "travel_job"
   ]
  },
  {
   "cell_type": "code",
   "execution_count": 58,
   "id": "7f021cc6",
   "metadata": {},
   "outputs": [
    {
     "data": {
      "image/png": "[encoded data removed]",
      "text/plain": [
       "<Figure size 432x288 with 1 Axes>"
      ]
     },
     "metadata": {
      "needs_background": "light"
     },
     "output_type": "display_data"
    }
   ],
   "source": [
    "ax = travel_job.plot(kind='barh')\n",
    "plt.title('Business Travel By Job Role', size=14)\n",
    "plt.ylabel('Percent, %')\n",
    "plt.legend(loc = 'upper left',  bbox_to_anchor=(1, 1))\n",
    "\n",
    "# set the bar label\n",
    "for c in ax.containers:\n",
    "    ax.bar_label(c, label_type='edge')\n",
    "plt.xticks(rotation=90)\n",
    "plt.show()"
   ]
  },
  {
   "cell_type": "markdown",
   "id": "dab08500",
   "metadata": {},
   "source": [
    "## 14.0 Which `marital status` have higher` attrition` rates?"
   ]
  },
  {
   "cell_type": "code",
   "execution_count": 59,
   "id": "1cce5681",
   "metadata": {},
   "outputs": [
    {
     "name": "stdout",
     "output_type": "stream",
     "text": [
      "MaritalStatus  Divorced  Married  Single\n",
      "Attrition                               \n",
      "No                  294      589     350\n",
      "Yes                  33       84     120\n",
      "\n",
      "Percentage\n",
      "MaritalStatus  Divorced  Married  Single\n",
      "Attrition                               \n",
      "No                 23.8     47.8    28.4\n",
      "Yes                13.9     35.4    50.6\n"
     ]
    },
    {
     "data": {
      "image/png": "[encoded data removed]",
      "text/plain": [
       "<Figure size 432x288 with 1 Axes>"
      ]
     },
     "metadata": {
      "needs_background": "light"
     },
     "output_type": "display_data"
    }
   ],
   "source": [
    "# Calculate the counts of MaritalStatus by Attrition\n",
    "marital_attrition = pd.crosstab(index=df['Attrition'], columns=df['MaritalStatus'])\n",
    "print(marital_attrition)\n",
    "\n",
    "print(\"\\nPercentage\")\n",
    "\n",
    "# Calculate percentage of MaritalStatus based on Attrition\n",
    "marital_attrition_prop = pd.crosstab(index=df['Attrition'], columns=df['MaritalStatus'], normalize='index')*100\n",
    "y = marital_attrition_prop.round(1)\n",
    "print(y)\n",
    "\n",
    "ax = y.plot(kind='bar')\n",
    "plt.title('Attrition by Marital Status', size=14)\n",
    "plt.ylabel('Percent, %')\n",
    "plt.legend(loc = 'upper left',  bbox_to_anchor=(1, 1))\n",
    "\n",
    "# set the bar label\n",
    "for c in ax.containers:\n",
    "    ax.bar_label(c, label_type='edge')\n",
    "plt.xticks(rotation=0)\n",
    "plt.show()"
   ]
  },
  {
   "cell_type": "markdown",
   "id": "d41cc4f4",
   "metadata": {},
   "source": [
    "## 14.1 Is there any significant difference of `MaritalStatus` based on `Attrition`?"
   ]
  },
  {
   "cell_type": "code",
   "execution_count": 60,
   "id": "7a52badb",
   "metadata": {
    "scrolled": true
   },
   "outputs": [
    {
     "data": {
      "text/plain": [
       "9.45551106034083e-11"
      ]
     },
     "execution_count": 60,
     "metadata": {},
     "output_type": "execute_result"
    }
   ],
   "source": [
    "c, p, dof, expected = stats.chi2_contingency(marital_attrition)\n",
    "p"
   ]
  },
  {
   "cell_type": "markdown",
   "id": "21fa8c30",
   "metadata": {},
   "source": [
    "## 15. Does `YearsAtCompany` influence employee `Attrition`?"
   ]
  },
  {
   "cell_type": "code",
   "execution_count": 61,
   "id": "9a0f8eaf",
   "metadata": {},
   "outputs": [
    {
     "name": "stdout",
     "output_type": "stream",
     "text": [
      "  Attrition  YearsAtCompany\n",
      "0        No        7.369019\n",
      "1       Yes        5.130802\n"
     ]
    },
    {
     "data": {
      "image/png": "[encoded data removed]",
      "text/plain": [
       "<Figure size 576x360 with 1 Axes>"
      ]
     },
     "metadata": {
      "needs_background": "light"
     },
     "output_type": "display_data"
    }
   ],
   "source": [
    "#Compute the mean of YearsAtCompany for each classes in Attrition (Yes & No)\n",
    "\n",
    "meanYears_attrition = df.groupby('Attrition', as_index=False)['YearsAtCompany'].mean()\n",
    "print(meanYears_attrition)\n",
    "\n",
    "# Plot histogram for better visual\n",
    "plt.figure(figsize=(8,5))\n",
    "sns.boxplot(x='Attrition', y='YearsAtCompany', data=df)\n",
    "plt.show()"
   ]
  },
  {
   "cell_type": "markdown",
   "id": "6106d472",
   "metadata": {},
   "source": [
    "## 15.1 Independence T-Test for `YearsAtCompany` and `Attrition`\n",
    "+ Null Hypothesis - There is no significant difference of mean of YearsAtCompany between No and Yes \n",
    "+ Alternative Hypothesis -There is  significant difference of mean of YearsAtCompany between No and Yes"
   ]
  },
  {
   "cell_type": "code",
   "execution_count": 62,
   "id": "d617f1be",
   "metadata": {},
   "outputs": [
    {
     "name": "stdout",
     "output_type": "stream",
     "text": [
      "LeveneResult(statistic=2.5049476586425445, pvalue=0.11370465713766563)\n",
      "Ttest_indResult(statistic=5.1963086670254235, pvalue=2.3188716103863033e-07)\n"
     ]
    }
   ],
   "source": [
    "#Calculate levene test to get variance of each variable\n",
    "\n",
    "print(stats.levene(df['YearsAtCompany'][df['Attrition']=='No'],\n",
    "             df['YearsAtCompany'][df['Attrition']=='Yes'],\n",
    "            center='mean'))\n",
    "\n",
    "# Independence T-test\n",
    "print(stats.ttest_ind(df['YearsAtCompany'][df['Attrition']=='No'],\n",
    "             df['YearsAtCompany'][df['Attrition']=='Yes'],\n",
    "             equal_var=True))"
   ]
  },
  {
   "cell_type": "markdown",
   "id": "9971f08c",
   "metadata": {},
   "source": [
    "## 16.0 Does `YearsSinceLastPromotion` influence employee's attrition?"
   ]
  },
  {
   "cell_type": "code",
   "execution_count": 63,
   "id": "f237a2b4",
   "metadata": {},
   "outputs": [
    {
     "name": "stdout",
     "output_type": "stream",
     "text": [
      "  Attrition  YearsSinceLastPromotion\n",
      "0        No                 2.234388\n",
      "1       Yes                 1.945148\n"
     ]
    },
    {
     "data": {
      "image/png": "[encoded data removed]",
      "text/plain": [
       "<Figure size 576x360 with 1 Axes>"
      ]
     },
     "metadata": {
      "needs_background": "light"
     },
     "output_type": "display_data"
    }
   ],
   "source": [
    "#Compute the mean of YearsSinceLastPromotion for each classes in Attrition (Yes & No)\n",
    "\n",
    "meanEdu_attrition = df.groupby('Attrition', as_index=False)['YearsSinceLastPromotion'].mean()\n",
    "print(meanEdu_attrition)\n",
    "\n",
    "# Create boxplot\n",
    "\n",
    "plt.figure(figsize=(8,5))\n",
    "sns.boxplot(x='Attrition', y='YearsSinceLastPromotion', data=df)\n",
    "plt.show()"
   ]
  },
  {
   "cell_type": "markdown",
   "id": "24c52ef3",
   "metadata": {},
   "source": [
    "## 16.1 Independence T-Test for `YearsSinceLastPromotion` and `Attrition`\n",
    "+ Null Hypothesis - There is no significant difference of mean of YearsSinceLastPromotion between No and Yes \n",
    "+ Alternative Hypothesis -There is  significant difference of mean of YearsSinceLastPromotion  between No and Yes"
   ]
  },
  {
   "cell_type": "code",
   "execution_count": 64,
   "id": "5fd77fab",
   "metadata": {},
   "outputs": [
    {
     "name": "stdout",
     "output_type": "stream",
     "text": [
      "LeveneResult(statistic=1.2865078146687527, pvalue=0.25687769398884447)\n",
      "Ttest_indResult(statistic=1.2657876620135298, pvalue=0.2057899591624936)\n"
     ]
    }
   ],
   "source": [
    "#Calculate levene test to get variance of each variable\n",
    "\n",
    "print(stats.levene(df['YearsSinceLastPromotion'][df['Attrition']=='No'],\n",
    "             df['YearsSinceLastPromotion'][df['Attrition']=='Yes'],\n",
    "            center='mean'))\n",
    "\n",
    "# Independence T-test\n",
    "\n",
    "print(stats.ttest_ind(df['YearsSinceLastPromotion'][df['Attrition']=='No'],\n",
    "             df['YearsSinceLastPromotion'][df['Attrition']=='Yes'],\n",
    "             equal_var=True))\n"
   ]
  },
  {
   "cell_type": "markdown",
   "id": "dc3c4a6c",
   "metadata": {},
   "source": [
    "## 17.0 Does `Overtime` influence employee's `Attrition`?"
   ]
  },
  {
   "cell_type": "code",
   "execution_count": 65,
   "id": "808b668a",
   "metadata": {},
   "outputs": [
    {
     "name": "stdout",
     "output_type": "stream",
     "text": [
      "OverTime    No  Yes\n",
      "Attrition          \n",
      "No         944  289\n",
      "Yes        110  127\n",
      "\n",
      "Percentage\n",
      "0\n"
     ]
    },
    {
     "data": {
      "image/png": "[encoded data removed]",
      "text/plain": [
       "<Figure size 432x288 with 1 Axes>"
      ]
     },
     "metadata": {
      "needs_background": "light"
     },
     "output_type": "display_data"
    }
   ],
   "source": [
    "# Calculate the counts of Overtime by Attrition\n",
    "overtime_attrition = pd.crosstab(index=df['Attrition'], columns=df['OverTime'])\n",
    "print(overtime_attrition)\n",
    "\n",
    "print(\"\\nPercentage\")\n",
    "\n",
    "# Calculate percentage of Overtime based on Attrition\n",
    "overtime_attrition_prop = pd.crosstab(index=df['Attrition'], columns=df['OverTime'], normalize='index')*100\n",
    "o = overtime_attrition_prop.round(1)\n",
    "print(0)\n",
    "\n",
    "ax = o.plot(kind='bar')\n",
    "plt.title('Attrition by Overtime' , size=14)\n",
    "plt.ylabel('Percent, %')\n",
    "plt.legend(loc = 'upper left',  bbox_to_anchor=(1, 1))\n",
    "\n",
    "# set the bar label\n",
    "for c in ax.containers:\n",
    "    ax.bar_label(c, label_type='edge')\n",
    "plt.xticks(rotation=0)\n",
    "plt.show()"
   ]
  },
  {
   "cell_type": "code",
   "execution_count": 66,
   "id": "36f485f3",
   "metadata": {},
   "outputs": [],
   "source": [
    "## 17.1 Is there any significant difference of `Overtime` based on `Attrition`?"
   ]
  },
  {
   "cell_type": "code",
   "execution_count": 67,
   "id": "0668f858",
   "metadata": {},
   "outputs": [
    {
     "data": {
      "text/plain": [
       "(87.56429365828768,\n",
       " 0.0,\n",
       " 1,\n",
       " array([[884.06938776, 348.93061224],\n",
       "        [169.93061224,  67.06938776]]))"
      ]
     },
     "execution_count": 67,
     "metadata": {},
     "output_type": "execute_result"
    }
   ],
   "source": [
    "c, p, dof, expected = stats.chi2_contingency(overtime_attrition)\n",
    "c,p.round(2),dof,expected"
   ]
  },
  {
   "cell_type": "markdown",
   "id": "2233dcd6",
   "metadata": {},
   "source": [
    "-------"
   ]
  },
  {
   "cell_type": "markdown",
   "id": "1c8d9453",
   "metadata": {},
   "source": [
    "# Machine Learning - Classification"
   ]
  },
  {
   "cell_type": "markdown",
   "id": "908c7793",
   "metadata": {},
   "source": [
    "### To predict the probability of an employee leaving the company"
   ]
  },
  {
   "cell_type": "markdown",
   "id": "52b2bdd2",
   "metadata": {},
   "source": [
    "List of variables affecting Attrition\n",
    "\n",
    "+ Age\n",
    "+ BusinessTravel\n",
    "+ MonthlyIncome \n",
    "+ JobSatisfaction\n",
    "+ Bonus \n",
    "+ Department\n",
    "+ DistanceFromHome\n",
    "+ EnvSatisfaction\n",
    "+ MaritalStatus\n",
    "+ YearsAtCompany\n",
    "+ OverTime"
   ]
  },
  {
   "cell_type": "code",
   "execution_count": 68,
   "id": "0056d8ed",
   "metadata": {},
   "outputs": [
    {
     "data": {
      "text/plain": [
       "Index(['Age', 'BusinessTravel', 'MonthlyIncome', 'JobSatisfaction', 'Bonus',\n",
       "       'Department', 'DistanceFromHome', 'Education', 'EducationField',\n",
       "       'EnvSatisfaction', 'Gender', 'JobRole', 'MaritalStatus',\n",
       "       'PerformanceRating', 'TrainingTimesLastYear', 'YearsAtCompany',\n",
       "       'YearsSinceLastPromotion', 'OverTime', 'Attrition'],\n",
       "      dtype='object')"
      ]
     },
     "execution_count": 68,
     "metadata": {},
     "output_type": "execute_result"
    }
   ],
   "source": [
    "#list of variables\n",
    "\n",
    "df.columns"
   ]
  },
  {
   "cell_type": "code",
   "execution_count": 69,
   "id": "839d6e33",
   "metadata": {},
   "outputs": [],
   "source": [
    "# Create a new dataframe with new list of variables        \n",
    "\n",
    "df2 = df[['Age', 'BusinessTravel', 'MonthlyIncome', 'JobSatisfaction', 'Bonus', 'Department',\n",
    "        'DistanceFromHome','EnvSatisfaction','MaritalStatus','YearsAtCompany', 'OverTime', 'Attrition']] "
   ]
  },
  {
   "cell_type": "code",
   "execution_count": 70,
   "id": "94e0db20",
   "metadata": {},
   "outputs": [
    {
     "data": {
      "text/html": [
       "<div>\n",
       "<style scoped>\n",
       "    .dataframe tbody tr th:only-of-type {\n",
       "        vertical-align: middle;\n",
       "    }\n",
       "\n",
       "    .dataframe tbody tr th {\n",
       "        vertical-align: top;\n",
       "    }\n",
       "\n",
       "    .dataframe thead th {\n",
       "        text-align: right;\n",
       "    }\n",
       "</style>\n",
       "<table border=\"1\" class=\"dataframe\">\n",
       "  <thead>\n",
       "    <tr style=\"text-align: right;\">\n",
       "      <th></th>\n",
       "      <th>Age</th>\n",
       "      <th>BusinessTravel</th>\n",
       "      <th>MonthlyIncome</th>\n",
       "      <th>JobSatisfaction</th>\n",
       "      <th>Bonus</th>\n",
       "      <th>Department</th>\n",
       "      <th>DistanceFromHome</th>\n",
       "      <th>EnvSatisfaction</th>\n",
       "      <th>MaritalStatus</th>\n",
       "      <th>YearsAtCompany</th>\n",
       "      <th>OverTime</th>\n",
       "      <th>Attrition</th>\n",
       "    </tr>\n",
       "    <tr>\n",
       "      <th>EmployeeID</th>\n",
       "      <th></th>\n",
       "      <th></th>\n",
       "      <th></th>\n",
       "      <th></th>\n",
       "      <th></th>\n",
       "      <th></th>\n",
       "      <th></th>\n",
       "      <th></th>\n",
       "      <th></th>\n",
       "      <th></th>\n",
       "      <th></th>\n",
       "      <th></th>\n",
       "    </tr>\n",
       "  </thead>\n",
       "  <tbody>\n",
       "    <tr>\n",
       "      <th>1</th>\n",
       "      <td>41</td>\n",
       "      <td>Travel_Rarely</td>\n",
       "      <td>5993</td>\n",
       "      <td>4</td>\n",
       "      <td>17979</td>\n",
       "      <td>Sales</td>\n",
       "      <td>1</td>\n",
       "      <td>2</td>\n",
       "      <td>Single</td>\n",
       "      <td>6</td>\n",
       "      <td>Yes</td>\n",
       "      <td>Yes</td>\n",
       "    </tr>\n",
       "    <tr>\n",
       "      <th>2</th>\n",
       "      <td>49</td>\n",
       "      <td>Travel_Frequently</td>\n",
       "      <td>5130</td>\n",
       "      <td>2</td>\n",
       "      <td>20520</td>\n",
       "      <td>Research &amp; Development</td>\n",
       "      <td>8</td>\n",
       "      <td>3</td>\n",
       "      <td>Married</td>\n",
       "      <td>10</td>\n",
       "      <td>No</td>\n",
       "      <td>No</td>\n",
       "    </tr>\n",
       "    <tr>\n",
       "      <th>4</th>\n",
       "      <td>37</td>\n",
       "      <td>Travel_Rarely</td>\n",
       "      <td>2090</td>\n",
       "      <td>3</td>\n",
       "      <td>6270</td>\n",
       "      <td>Research &amp; Development</td>\n",
       "      <td>2</td>\n",
       "      <td>4</td>\n",
       "      <td>Single</td>\n",
       "      <td>0</td>\n",
       "      <td>Yes</td>\n",
       "      <td>Yes</td>\n",
       "    </tr>\n",
       "    <tr>\n",
       "      <th>5</th>\n",
       "      <td>33</td>\n",
       "      <td>Travel_Frequently</td>\n",
       "      <td>2909</td>\n",
       "      <td>3</td>\n",
       "      <td>8727</td>\n",
       "      <td>Research &amp; Development</td>\n",
       "      <td>3</td>\n",
       "      <td>4</td>\n",
       "      <td>Married</td>\n",
       "      <td>8</td>\n",
       "      <td>Yes</td>\n",
       "      <td>No</td>\n",
       "    </tr>\n",
       "    <tr>\n",
       "      <th>7</th>\n",
       "      <td>27</td>\n",
       "      <td>Travel_Rarely</td>\n",
       "      <td>3468</td>\n",
       "      <td>2</td>\n",
       "      <td>10404</td>\n",
       "      <td>Research &amp; Development</td>\n",
       "      <td>2</td>\n",
       "      <td>1</td>\n",
       "      <td>Married</td>\n",
       "      <td>2</td>\n",
       "      <td>No</td>\n",
       "      <td>No</td>\n",
       "    </tr>\n",
       "  </tbody>\n",
       "</table>\n",
       "</div>"
      ],
      "text/plain": [
       "            Age     BusinessTravel  MonthlyIncome  JobSatisfaction  Bonus  \\\n",
       "EmployeeID                                                                  \n",
       "1            41      Travel_Rarely           5993                4  17979   \n",
       "2            49  Travel_Frequently           5130                2  20520   \n",
       "4            37      Travel_Rarely           2090                3   6270   \n",
       "5            33  Travel_Frequently           2909                3   8727   \n",
       "7            27      Travel_Rarely           3468                2  10404   \n",
       "\n",
       "                        Department  DistanceFromHome  EnvSatisfaction  \\\n",
       "EmployeeID                                                              \n",
       "1                            Sales                 1                2   \n",
       "2           Research & Development                 8                3   \n",
       "4           Research & Development                 2                4   \n",
       "5           Research & Development                 3                4   \n",
       "7           Research & Development                 2                1   \n",
       "\n",
       "           MaritalStatus  YearsAtCompany OverTime Attrition  \n",
       "EmployeeID                                                   \n",
       "1                 Single               6      Yes       Yes  \n",
       "2                Married              10       No        No  \n",
       "4                 Single               0      Yes       Yes  \n",
       "5                Married               8      Yes        No  \n",
       "7                Married               2       No        No  "
      ]
     },
     "execution_count": 70,
     "metadata": {},
     "output_type": "execute_result"
    }
   ],
   "source": [
    "df2.head(5)"
   ]
  },
  {
   "cell_type": "code",
   "execution_count": 71,
   "id": "0d84195d",
   "metadata": {
    "scrolled": true
   },
   "outputs": [
    {
     "data": {
      "text/plain": [
       "No     1233\n",
       "Yes     237\n",
       "Name: Attrition, dtype: int64"
      ]
     },
     "execution_count": 71,
     "metadata": {},
     "output_type": "execute_result"
    }
   ],
   "source": [
    "df2['Attrition'].value_counts()"
   ]
  },
  {
   "cell_type": "markdown",
   "id": "8efaac89",
   "metadata": {},
   "source": [
    "## Assign input and output\n"
   ]
  },
  {
   "cell_type": "code",
   "execution_count": 72,
   "id": "f69ad0ef",
   "metadata": {},
   "outputs": [],
   "source": [
    "\n",
    "x = df2.iloc[:,:-1]\n",
    "y = df2.iloc[:, -1]"
   ]
  },
  {
   "cell_type": "code",
   "execution_count": 73,
   "id": "52e3e473",
   "metadata": {},
   "outputs": [
    {
     "data": {
      "text/html": [
       "<div>\n",
       "<style scoped>\n",
       "    .dataframe tbody tr th:only-of-type {\n",
       "        vertical-align: middle;\n",
       "    }\n",
       "\n",
       "    .dataframe tbody tr th {\n",
       "        vertical-align: top;\n",
       "    }\n",
       "\n",
       "    .dataframe thead th {\n",
       "        text-align: right;\n",
       "    }\n",
       "</style>\n",
       "<table border=\"1\" class=\"dataframe\">\n",
       "  <thead>\n",
       "    <tr style=\"text-align: right;\">\n",
       "      <th></th>\n",
       "      <th>Age</th>\n",
       "      <th>BusinessTravel</th>\n",
       "      <th>MonthlyIncome</th>\n",
       "      <th>JobSatisfaction</th>\n",
       "      <th>Bonus</th>\n",
       "      <th>Department</th>\n",
       "      <th>DistanceFromHome</th>\n",
       "      <th>EnvSatisfaction</th>\n",
       "      <th>MaritalStatus</th>\n",
       "      <th>YearsAtCompany</th>\n",
       "      <th>OverTime</th>\n",
       "    </tr>\n",
       "    <tr>\n",
       "      <th>EmployeeID</th>\n",
       "      <th></th>\n",
       "      <th></th>\n",
       "      <th></th>\n",
       "      <th></th>\n",
       "      <th></th>\n",
       "      <th></th>\n",
       "      <th></th>\n",
       "      <th></th>\n",
       "      <th></th>\n",
       "      <th></th>\n",
       "      <th></th>\n",
       "    </tr>\n",
       "  </thead>\n",
       "  <tbody>\n",
       "    <tr>\n",
       "      <th>1</th>\n",
       "      <td>41</td>\n",
       "      <td>Travel_Rarely</td>\n",
       "      <td>5993</td>\n",
       "      <td>4</td>\n",
       "      <td>17979</td>\n",
       "      <td>Sales</td>\n",
       "      <td>1</td>\n",
       "      <td>2</td>\n",
       "      <td>Single</td>\n",
       "      <td>6</td>\n",
       "      <td>Yes</td>\n",
       "    </tr>\n",
       "    <tr>\n",
       "      <th>2</th>\n",
       "      <td>49</td>\n",
       "      <td>Travel_Frequently</td>\n",
       "      <td>5130</td>\n",
       "      <td>2</td>\n",
       "      <td>20520</td>\n",
       "      <td>Research &amp; Development</td>\n",
       "      <td>8</td>\n",
       "      <td>3</td>\n",
       "      <td>Married</td>\n",
       "      <td>10</td>\n",
       "      <td>No</td>\n",
       "    </tr>\n",
       "    <tr>\n",
       "      <th>4</th>\n",
       "      <td>37</td>\n",
       "      <td>Travel_Rarely</td>\n",
       "      <td>2090</td>\n",
       "      <td>3</td>\n",
       "      <td>6270</td>\n",
       "      <td>Research &amp; Development</td>\n",
       "      <td>2</td>\n",
       "      <td>4</td>\n",
       "      <td>Single</td>\n",
       "      <td>0</td>\n",
       "      <td>Yes</td>\n",
       "    </tr>\n",
       "    <tr>\n",
       "      <th>5</th>\n",
       "      <td>33</td>\n",
       "      <td>Travel_Frequently</td>\n",
       "      <td>2909</td>\n",
       "      <td>3</td>\n",
       "      <td>8727</td>\n",
       "      <td>Research &amp; Development</td>\n",
       "      <td>3</td>\n",
       "      <td>4</td>\n",
       "      <td>Married</td>\n",
       "      <td>8</td>\n",
       "      <td>Yes</td>\n",
       "    </tr>\n",
       "    <tr>\n",
       "      <th>7</th>\n",
       "      <td>27</td>\n",
       "      <td>Travel_Rarely</td>\n",
       "      <td>3468</td>\n",
       "      <td>2</td>\n",
       "      <td>10404</td>\n",
       "      <td>Research &amp; Development</td>\n",
       "      <td>2</td>\n",
       "      <td>1</td>\n",
       "      <td>Married</td>\n",
       "      <td>2</td>\n",
       "      <td>No</td>\n",
       "    </tr>\n",
       "    <tr>\n",
       "      <th>...</th>\n",
       "      <td>...</td>\n",
       "      <td>...</td>\n",
       "      <td>...</td>\n",
       "      <td>...</td>\n",
       "      <td>...</td>\n",
       "      <td>...</td>\n",
       "      <td>...</td>\n",
       "      <td>...</td>\n",
       "      <td>...</td>\n",
       "      <td>...</td>\n",
       "      <td>...</td>\n",
       "    </tr>\n",
       "    <tr>\n",
       "      <th>2061</th>\n",
       "      <td>36</td>\n",
       "      <td>Travel_Frequently</td>\n",
       "      <td>2571</td>\n",
       "      <td>4</td>\n",
       "      <td>7713</td>\n",
       "      <td>Research &amp; Development</td>\n",
       "      <td>23</td>\n",
       "      <td>3</td>\n",
       "      <td>Married</td>\n",
       "      <td>5</td>\n",
       "      <td>No</td>\n",
       "    </tr>\n",
       "    <tr>\n",
       "      <th>2062</th>\n",
       "      <td>39</td>\n",
       "      <td>Travel_Rarely</td>\n",
       "      <td>9991</td>\n",
       "      <td>1</td>\n",
       "      <td>29973</td>\n",
       "      <td>Research &amp; Development</td>\n",
       "      <td>6</td>\n",
       "      <td>4</td>\n",
       "      <td>Married</td>\n",
       "      <td>7</td>\n",
       "      <td>No</td>\n",
       "    </tr>\n",
       "    <tr>\n",
       "      <th>2064</th>\n",
       "      <td>27</td>\n",
       "      <td>Travel_Rarely</td>\n",
       "      <td>6142</td>\n",
       "      <td>2</td>\n",
       "      <td>24568</td>\n",
       "      <td>Research &amp; Development</td>\n",
       "      <td>4</td>\n",
       "      <td>2</td>\n",
       "      <td>Married</td>\n",
       "      <td>6</td>\n",
       "      <td>Yes</td>\n",
       "    </tr>\n",
       "    <tr>\n",
       "      <th>2065</th>\n",
       "      <td>49</td>\n",
       "      <td>Travel_Frequently</td>\n",
       "      <td>5390</td>\n",
       "      <td>2</td>\n",
       "      <td>16170</td>\n",
       "      <td>Sales</td>\n",
       "      <td>2</td>\n",
       "      <td>4</td>\n",
       "      <td>Married</td>\n",
       "      <td>9</td>\n",
       "      <td>No</td>\n",
       "    </tr>\n",
       "    <tr>\n",
       "      <th>2068</th>\n",
       "      <td>34</td>\n",
       "      <td>Travel_Rarely</td>\n",
       "      <td>4404</td>\n",
       "      <td>3</td>\n",
       "      <td>13212</td>\n",
       "      <td>Research &amp; Development</td>\n",
       "      <td>8</td>\n",
       "      <td>2</td>\n",
       "      <td>Married</td>\n",
       "      <td>4</td>\n",
       "      <td>No</td>\n",
       "    </tr>\n",
       "  </tbody>\n",
       "</table>\n",
       "<p>1470 rows × 11 columns</p>\n",
       "</div>"
      ],
      "text/plain": [
       "            Age     BusinessTravel  MonthlyIncome  JobSatisfaction  Bonus  \\\n",
       "EmployeeID                                                                  \n",
       "1            41      Travel_Rarely           5993                4  17979   \n",
       "2            49  Travel_Frequently           5130                2  20520   \n",
       "4            37      Travel_Rarely           2090                3   6270   \n",
       "5            33  Travel_Frequently           2909                3   8727   \n",
       "7            27      Travel_Rarely           3468                2  10404   \n",
       "...         ...                ...            ...              ...    ...   \n",
       "2061         36  Travel_Frequently           2571                4   7713   \n",
       "2062         39      Travel_Rarely           9991                1  29973   \n",
       "2064         27      Travel_Rarely           6142                2  24568   \n",
       "2065         49  Travel_Frequently           5390                2  16170   \n",
       "2068         34      Travel_Rarely           4404                3  13212   \n",
       "\n",
       "                        Department  DistanceFromHome  EnvSatisfaction  \\\n",
       "EmployeeID                                                              \n",
       "1                            Sales                 1                2   \n",
       "2           Research & Development                 8                3   \n",
       "4           Research & Development                 2                4   \n",
       "5           Research & Development                 3                4   \n",
       "7           Research & Development                 2                1   \n",
       "...                            ...               ...              ...   \n",
       "2061        Research & Development                23                3   \n",
       "2062        Research & Development                 6                4   \n",
       "2064        Research & Development                 4                2   \n",
       "2065                         Sales                 2                4   \n",
       "2068        Research & Development                 8                2   \n",
       "\n",
       "           MaritalStatus  YearsAtCompany OverTime  \n",
       "EmployeeID                                         \n",
       "1                 Single               6      Yes  \n",
       "2                Married              10       No  \n",
       "4                 Single               0      Yes  \n",
       "5                Married               8      Yes  \n",
       "7                Married               2       No  \n",
       "...                  ...             ...      ...  \n",
       "2061             Married               5       No  \n",
       "2062             Married               7       No  \n",
       "2064             Married               6      Yes  \n",
       "2065             Married               9       No  \n",
       "2068             Married               4       No  \n",
       "\n",
       "[1470 rows x 11 columns]"
      ]
     },
     "execution_count": 73,
     "metadata": {},
     "output_type": "execute_result"
    }
   ],
   "source": [
    "x"
   ]
  },
  {
   "cell_type": "code",
   "execution_count": 74,
   "id": "235de646",
   "metadata": {},
   "outputs": [
    {
     "data": {
      "text/plain": [
       "No     1233\n",
       "Yes     237\n",
       "Name: Attrition, dtype: int64"
      ]
     },
     "execution_count": 74,
     "metadata": {},
     "output_type": "execute_result"
    }
   ],
   "source": [
    "y.value_counts()"
   ]
  },
  {
   "cell_type": "markdown",
   "id": "8a2702db",
   "metadata": {},
   "source": [
    "## Transform Categorical to Encoded Dummy Numeric Variable"
   ]
  },
  {
   "cell_type": "code",
   "execution_count": 75,
   "id": "5d8a1dcc",
   "metadata": {},
   "outputs": [
    {
     "data": {
      "text/html": [
       "<div>\n",
       "<style scoped>\n",
       "    .dataframe tbody tr th:only-of-type {\n",
       "        vertical-align: middle;\n",
       "    }\n",
       "\n",
       "    .dataframe tbody tr th {\n",
       "        vertical-align: top;\n",
       "    }\n",
       "\n",
       "    .dataframe thead th {\n",
       "        text-align: right;\n",
       "    }\n",
       "</style>\n",
       "<table border=\"1\" class=\"dataframe\">\n",
       "  <thead>\n",
       "    <tr style=\"text-align: right;\">\n",
       "      <th></th>\n",
       "      <th>Age</th>\n",
       "      <th>MonthlyIncome</th>\n",
       "      <th>JobSatisfaction</th>\n",
       "      <th>Bonus</th>\n",
       "      <th>DistanceFromHome</th>\n",
       "      <th>EnvSatisfaction</th>\n",
       "      <th>YearsAtCompany</th>\n",
       "      <th>BusinessTravel_Travel_Frequently</th>\n",
       "      <th>BusinessTravel_Travel_Rarely</th>\n",
       "      <th>Department_Research &amp; Development</th>\n",
       "      <th>Department_Sales</th>\n",
       "      <th>MaritalStatus_Married</th>\n",
       "      <th>MaritalStatus_Single</th>\n",
       "      <th>OverTime_Yes</th>\n",
       "    </tr>\n",
       "    <tr>\n",
       "      <th>EmployeeID</th>\n",
       "      <th></th>\n",
       "      <th></th>\n",
       "      <th></th>\n",
       "      <th></th>\n",
       "      <th></th>\n",
       "      <th></th>\n",
       "      <th></th>\n",
       "      <th></th>\n",
       "      <th></th>\n",
       "      <th></th>\n",
       "      <th></th>\n",
       "      <th></th>\n",
       "      <th></th>\n",
       "      <th></th>\n",
       "    </tr>\n",
       "  </thead>\n",
       "  <tbody>\n",
       "    <tr>\n",
       "      <th>1</th>\n",
       "      <td>41</td>\n",
       "      <td>5993</td>\n",
       "      <td>4</td>\n",
       "      <td>17979</td>\n",
       "      <td>1</td>\n",
       "      <td>2</td>\n",
       "      <td>6</td>\n",
       "      <td>0</td>\n",
       "      <td>1</td>\n",
       "      <td>0</td>\n",
       "      <td>1</td>\n",
       "      <td>0</td>\n",
       "      <td>1</td>\n",
       "      <td>1</td>\n",
       "    </tr>\n",
       "    <tr>\n",
       "      <th>2</th>\n",
       "      <td>49</td>\n",
       "      <td>5130</td>\n",
       "      <td>2</td>\n",
       "      <td>20520</td>\n",
       "      <td>8</td>\n",
       "      <td>3</td>\n",
       "      <td>10</td>\n",
       "      <td>1</td>\n",
       "      <td>0</td>\n",
       "      <td>1</td>\n",
       "      <td>0</td>\n",
       "      <td>1</td>\n",
       "      <td>0</td>\n",
       "      <td>0</td>\n",
       "    </tr>\n",
       "    <tr>\n",
       "      <th>4</th>\n",
       "      <td>37</td>\n",
       "      <td>2090</td>\n",
       "      <td>3</td>\n",
       "      <td>6270</td>\n",
       "      <td>2</td>\n",
       "      <td>4</td>\n",
       "      <td>0</td>\n",
       "      <td>0</td>\n",
       "      <td>1</td>\n",
       "      <td>1</td>\n",
       "      <td>0</td>\n",
       "      <td>0</td>\n",
       "      <td>1</td>\n",
       "      <td>1</td>\n",
       "    </tr>\n",
       "    <tr>\n",
       "      <th>5</th>\n",
       "      <td>33</td>\n",
       "      <td>2909</td>\n",
       "      <td>3</td>\n",
       "      <td>8727</td>\n",
       "      <td>3</td>\n",
       "      <td>4</td>\n",
       "      <td>8</td>\n",
       "      <td>1</td>\n",
       "      <td>0</td>\n",
       "      <td>1</td>\n",
       "      <td>0</td>\n",
       "      <td>1</td>\n",
       "      <td>0</td>\n",
       "      <td>1</td>\n",
       "    </tr>\n",
       "    <tr>\n",
       "      <th>7</th>\n",
       "      <td>27</td>\n",
       "      <td>3468</td>\n",
       "      <td>2</td>\n",
       "      <td>10404</td>\n",
       "      <td>2</td>\n",
       "      <td>1</td>\n",
       "      <td>2</td>\n",
       "      <td>0</td>\n",
       "      <td>1</td>\n",
       "      <td>1</td>\n",
       "      <td>0</td>\n",
       "      <td>1</td>\n",
       "      <td>0</td>\n",
       "      <td>0</td>\n",
       "    </tr>\n",
       "    <tr>\n",
       "      <th>8</th>\n",
       "      <td>32</td>\n",
       "      <td>3068</td>\n",
       "      <td>4</td>\n",
       "      <td>9204</td>\n",
       "      <td>2</td>\n",
       "      <td>4</td>\n",
       "      <td>7</td>\n",
       "      <td>1</td>\n",
       "      <td>0</td>\n",
       "      <td>1</td>\n",
       "      <td>0</td>\n",
       "      <td>0</td>\n",
       "      <td>1</td>\n",
       "      <td>0</td>\n",
       "    </tr>\n",
       "    <tr>\n",
       "      <th>10</th>\n",
       "      <td>59</td>\n",
       "      <td>2670</td>\n",
       "      <td>1</td>\n",
       "      <td>10680</td>\n",
       "      <td>3</td>\n",
       "      <td>3</td>\n",
       "      <td>1</td>\n",
       "      <td>0</td>\n",
       "      <td>1</td>\n",
       "      <td>1</td>\n",
       "      <td>0</td>\n",
       "      <td>1</td>\n",
       "      <td>0</td>\n",
       "      <td>1</td>\n",
       "    </tr>\n",
       "    <tr>\n",
       "      <th>11</th>\n",
       "      <td>30</td>\n",
       "      <td>2693</td>\n",
       "      <td>3</td>\n",
       "      <td>10772</td>\n",
       "      <td>24</td>\n",
       "      <td>4</td>\n",
       "      <td>1</td>\n",
       "      <td>0</td>\n",
       "      <td>1</td>\n",
       "      <td>1</td>\n",
       "      <td>0</td>\n",
       "      <td>0</td>\n",
       "      <td>0</td>\n",
       "      <td>0</td>\n",
       "    </tr>\n",
       "    <tr>\n",
       "      <th>12</th>\n",
       "      <td>38</td>\n",
       "      <td>9526</td>\n",
       "      <td>3</td>\n",
       "      <td>38104</td>\n",
       "      <td>23</td>\n",
       "      <td>4</td>\n",
       "      <td>9</td>\n",
       "      <td>1</td>\n",
       "      <td>0</td>\n",
       "      <td>1</td>\n",
       "      <td>0</td>\n",
       "      <td>0</td>\n",
       "      <td>1</td>\n",
       "      <td>0</td>\n",
       "    </tr>\n",
       "    <tr>\n",
       "      <th>13</th>\n",
       "      <td>36</td>\n",
       "      <td>5237</td>\n",
       "      <td>3</td>\n",
       "      <td>15711</td>\n",
       "      <td>27</td>\n",
       "      <td>3</td>\n",
       "      <td>7</td>\n",
       "      <td>0</td>\n",
       "      <td>1</td>\n",
       "      <td>1</td>\n",
       "      <td>0</td>\n",
       "      <td>1</td>\n",
       "      <td>0</td>\n",
       "      <td>0</td>\n",
       "    </tr>\n",
       "  </tbody>\n",
       "</table>\n",
       "</div>"
      ],
      "text/plain": [
       "            Age  MonthlyIncome  JobSatisfaction  Bonus  DistanceFromHome  \\\n",
       "EmployeeID                                                                 \n",
       "1            41           5993                4  17979                 1   \n",
       "2            49           5130                2  20520                 8   \n",
       "4            37           2090                3   6270                 2   \n",
       "5            33           2909                3   8727                 3   \n",
       "7            27           3468                2  10404                 2   \n",
       "8            32           3068                4   9204                 2   \n",
       "10           59           2670                1  10680                 3   \n",
       "11           30           2693                3  10772                24   \n",
       "12           38           9526                3  38104                23   \n",
       "13           36           5237                3  15711                27   \n",
       "\n",
       "            EnvSatisfaction  YearsAtCompany  BusinessTravel_Travel_Frequently  \\\n",
       "EmployeeID                                                                      \n",
       "1                         2               6                                 0   \n",
       "2                         3              10                                 1   \n",
       "4                         4               0                                 0   \n",
       "5                         4               8                                 1   \n",
       "7                         1               2                                 0   \n",
       "8                         4               7                                 1   \n",
       "10                        3               1                                 0   \n",
       "11                        4               1                                 0   \n",
       "12                        4               9                                 1   \n",
       "13                        3               7                                 0   \n",
       "\n",
       "            BusinessTravel_Travel_Rarely  Department_Research & Development  \\\n",
       "EmployeeID                                                                    \n",
       "1                                      1                                  0   \n",
       "2                                      0                                  1   \n",
       "4                                      1                                  1   \n",
       "5                                      0                                  1   \n",
       "7                                      1                                  1   \n",
       "8                                      0                                  1   \n",
       "10                                     1                                  1   \n",
       "11                                     1                                  1   \n",
       "12                                     0                                  1   \n",
       "13                                     1                                  1   \n",
       "\n",
       "            Department_Sales  MaritalStatus_Married  MaritalStatus_Single  \\\n",
       "EmployeeID                                                                  \n",
       "1                          1                      0                     1   \n",
       "2                          0                      1                     0   \n",
       "4                          0                      0                     1   \n",
       "5                          0                      1                     0   \n",
       "7                          0                      1                     0   \n",
       "8                          0                      0                     1   \n",
       "10                         0                      1                     0   \n",
       "11                         0                      0                     0   \n",
       "12                         0                      0                     1   \n",
       "13                         0                      1                     0   \n",
       "\n",
       "            OverTime_Yes  \n",
       "EmployeeID                \n",
       "1                      1  \n",
       "2                      0  \n",
       "4                      1  \n",
       "5                      1  \n",
       "7                      0  \n",
       "8                      0  \n",
       "10                     1  \n",
       "11                     0  \n",
       "12                     0  \n",
       "13                     0  "
      ]
     },
     "execution_count": 75,
     "metadata": {},
     "output_type": "execute_result"
    }
   ],
   "source": [
    "#Handling Categorical Data \n",
    "\n",
    "x = pd.get_dummies(x,drop_first=True)\n",
    "x.head(10)"
   ]
  },
  {
   "cell_type": "markdown",
   "id": "04eb2c53",
   "metadata": {},
   "source": [
    "## Data Partitioning"
   ]
  },
  {
   "cell_type": "code",
   "execution_count": 76,
   "id": "3ef7d7b5",
   "metadata": {},
   "outputs": [],
   "source": [
    "x_train, x_test, y_train, y_test = train_test_split(x,y, test_size=0.2, random_state=0, stratify = y)"
   ]
  },
  {
   "cell_type": "code",
   "execution_count": 77,
   "id": "ab543462",
   "metadata": {},
   "outputs": [
    {
     "data": {
      "text/plain": [
       "(1176, 14)"
      ]
     },
     "execution_count": 77,
     "metadata": {},
     "output_type": "execute_result"
    }
   ],
   "source": [
    "x_train.shape"
   ]
  },
  {
   "cell_type": "code",
   "execution_count": 78,
   "id": "451a199b",
   "metadata": {},
   "outputs": [
    {
     "data": {
      "text/plain": [
       "No     986\n",
       "Yes    190\n",
       "Name: Attrition, dtype: int64"
      ]
     },
     "execution_count": 78,
     "metadata": {},
     "output_type": "execute_result"
    }
   ],
   "source": [
    "y_train.value_counts()"
   ]
  },
  {
   "cell_type": "code",
   "execution_count": 79,
   "id": "8d4a7c84",
   "metadata": {},
   "outputs": [
    {
     "data": {
      "text/plain": [
       "EmployeeID\n",
       "329      No\n",
       "757      No\n",
       "1319    Yes\n",
       "1880     No\n",
       "1783    Yes\n",
       "       ... \n",
       "593     Yes\n",
       "602      No\n",
       "807      No\n",
       "689      No\n",
       "1127    Yes\n",
       "Name: Attrition, Length: 1176, dtype: object"
      ]
     },
     "execution_count": 79,
     "metadata": {},
     "output_type": "execute_result"
    }
   ],
   "source": [
    "y_train"
   ]
  },
  {
   "cell_type": "code",
   "execution_count": 80,
   "id": "8ef58908",
   "metadata": {},
   "outputs": [
    {
     "data": {
      "text/plain": [
       "No     247\n",
       "Yes     47\n",
       "Name: Attrition, dtype: int64"
      ]
     },
     "execution_count": 80,
     "metadata": {},
     "output_type": "execute_result"
    }
   ],
   "source": [
    "y_test.value_counts()"
   ]
  },
  {
   "cell_type": "markdown",
   "id": "9b5f4a7a",
   "metadata": {},
   "source": [
    "## Feature scaling for train set"
   ]
  },
  {
   "cell_type": "code",
   "execution_count": 81,
   "id": "68ef2431",
   "metadata": {},
   "outputs": [],
   "source": [
    "# Feature scaling for train set - to ensure all variables are in the same magnitude\n",
    "\n",
    "scaler = StandardScaler()\n",
    "scaler.fit(x_train)\n",
    "x_train = scaler.transform(x_train)"
   ]
  },
  {
   "cell_type": "code",
   "execution_count": 82,
   "id": "c6bf5158",
   "metadata": {},
   "outputs": [
    {
     "data": {
      "text/plain": [
       "array([ 1.62586005,  0.39968402, -0.62751633,  0.3155723 , -0.52635304,\n",
       "       -0.66255557,  0.131221  , -0.48507125,  0.64168895, -1.37715349,\n",
       "        1.53311035, -0.918292  ,  1.44171219,  1.56806362])"
      ]
     },
     "execution_count": 82,
     "metadata": {},
     "output_type": "execute_result"
    }
   ],
   "source": [
    "x_train[2]"
   ]
  },
  {
   "cell_type": "markdown",
   "id": "fc266919",
   "metadata": {},
   "source": [
    "## Algorithm Training Using Train Set (x_train) "
   ]
  },
  {
   "cell_type": "code",
   "execution_count": 83,
   "id": "0486d79a",
   "metadata": {},
   "outputs": [
    {
     "data": {
      "text/plain": [
       "LogisticRegression(random_state=0)"
      ]
     },
     "execution_count": 83,
     "metadata": {},
     "output_type": "execute_result"
    }
   ],
   "source": [
    "from sklearn.linear_model import LogisticRegression\n",
    "\n",
    "class_model = LogisticRegression(random_state=0)\n",
    "class_model.fit(x_train, y_train)"
   ]
  },
  {
   "cell_type": "markdown",
   "id": "27accc6b",
   "metadata": {},
   "source": [
    "#### Feature scaling for test set (x_test, y_test)"
   ]
  },
  {
   "cell_type": "code",
   "execution_count": 84,
   "id": "15284122",
   "metadata": {},
   "outputs": [
    {
     "data": {
      "text/plain": [
       "array([ 0.43098869, -0.7891494 ,  1.17899336, -0.80862056, -0.89465401,\n",
       "       -0.66255557, -0.02688955, -0.48507125,  0.64168895,  0.72613547,\n",
       "       -0.65226877, -0.918292  , -0.69361972,  1.56806362])"
      ]
     },
     "execution_count": 84,
     "metadata": {},
     "output_type": "execute_result"
    }
   ],
   "source": [
    "x_test = scaler.transform(x_test)\n",
    "x_test[2]"
   ]
  },
  {
   "cell_type": "markdown",
   "id": "bdb359c8",
   "metadata": {},
   "source": [
    "# Apply Test Set"
   ]
  },
  {
   "cell_type": "code",
   "execution_count": 85,
   "id": "1143552f",
   "metadata": {},
   "outputs": [
    {
     "data": {
      "text/plain": [
       "array(['No', 'No', 'No', 'No', 'No', 'No', 'No', 'No', 'No', 'No', 'No',\n",
       "       'No', 'No', 'No', 'No', 'No', 'No', 'No', 'No', 'No', 'No', 'No',\n",
       "       'No', 'No', 'No', 'No', 'Yes', 'No', 'No', 'No', 'Yes', 'No', 'No',\n",
       "       'No', 'No', 'No', 'No', 'No', 'No', 'No', 'No', 'No', 'No', 'No',\n",
       "       'Yes', 'No', 'No', 'No', 'No', 'No', 'No', 'No', 'No', 'No', 'No',\n",
       "       'No', 'No', 'Yes', 'No', 'No', 'No', 'No', 'No', 'No', 'No', 'No',\n",
       "       'No', 'No', 'No', 'No', 'No', 'No', 'No', 'No', 'No', 'No', 'No',\n",
       "       'No', 'No', 'No', 'No', 'No', 'No', 'No', 'No', 'No', 'No', 'No',\n",
       "       'No', 'No', 'No', 'No', 'No', 'No', 'No', 'No', 'No', 'No', 'No',\n",
       "       'No', 'No', 'No', 'No', 'No', 'No', 'No', 'No', 'No', 'No', 'No',\n",
       "       'No', 'Yes', 'No', 'No', 'No', 'No', 'No', 'No', 'No', 'No', 'No',\n",
       "       'No', 'No', 'No', 'No', 'No', 'No', 'No', 'No', 'No', 'No', 'No',\n",
       "       'No', 'No', 'No', 'No', 'No', 'No', 'No', 'No', 'No', 'No', 'No',\n",
       "       'No', 'No', 'No', 'No', 'No', 'No', 'No', 'No', 'No', 'No', 'No',\n",
       "       'No', 'No', 'No', 'No', 'No', 'No', 'No', 'No', 'No', 'No', 'No',\n",
       "       'No', 'No', 'No', 'No', 'No', 'No', 'No', 'No', 'No', 'No', 'No',\n",
       "       'No', 'No', 'No', 'No', 'No', 'No', 'No', 'No', 'No', 'No', 'No',\n",
       "       'No', 'No', 'No', 'No', 'No', 'No', 'No', 'Yes', 'No', 'No', 'No',\n",
       "       'No', 'No', 'No', 'No', 'No', 'No', 'No', 'No', 'No', 'No', 'No',\n",
       "       'No', 'No', 'No', 'No', 'Yes', 'No', 'Yes', 'No', 'No', 'No', 'No',\n",
       "       'No', 'No', 'No', 'No', 'No', 'No', 'No', 'No', 'No', 'No', 'No',\n",
       "       'No', 'No', 'No', 'No', 'No', 'No', 'No', 'No', 'No', 'No', 'No',\n",
       "       'No', 'No', 'No', 'No', 'No', 'No', 'No', 'No', 'No', 'No', 'No',\n",
       "       'No', 'No', 'No', 'No', 'No', 'No', 'No', 'No', 'No', 'No', 'No',\n",
       "       'No', 'No', 'No', 'No', 'No', 'No', 'No', 'No', 'No', 'No', 'No',\n",
       "       'No', 'No', 'No', 'Yes', 'No', 'No', 'No', 'No', 'No', 'No', 'No',\n",
       "       'No', 'No', 'No', 'No', 'No', 'No', 'No', 'No'], dtype=object)"
      ]
     },
     "execution_count": 85,
     "metadata": {},
     "output_type": "execute_result"
    }
   ],
   "source": [
    "y_prediction=class_model.predict(x_test)\n",
    "y_prediction #response"
   ]
  },
  {
   "cell_type": "code",
   "execution_count": 86,
   "id": "5b07d5f7",
   "metadata": {},
   "outputs": [
    {
     "data": {
      "text/html": [
       "<div>\n",
       "<style scoped>\n",
       "    .dataframe tbody tr th:only-of-type {\n",
       "        vertical-align: middle;\n",
       "    }\n",
       "\n",
       "    .dataframe tbody tr th {\n",
       "        vertical-align: top;\n",
       "    }\n",
       "\n",
       "    .dataframe thead th {\n",
       "        text-align: right;\n",
       "    }\n",
       "</style>\n",
       "<table border=\"1\" class=\"dataframe\">\n",
       "  <thead>\n",
       "    <tr style=\"text-align: right;\">\n",
       "      <th></th>\n",
       "      <th>Actual</th>\n",
       "      <th>Predicted</th>\n",
       "    </tr>\n",
       "    <tr>\n",
       "      <th>EmployeeID</th>\n",
       "      <th></th>\n",
       "      <th></th>\n",
       "    </tr>\n",
       "  </thead>\n",
       "  <tbody>\n",
       "    <tr>\n",
       "      <th>1256</th>\n",
       "      <td>No</td>\n",
       "      <td>No</td>\n",
       "    </tr>\n",
       "    <tr>\n",
       "      <th>844</th>\n",
       "      <td>No</td>\n",
       "      <td>No</td>\n",
       "    </tr>\n",
       "    <tr>\n",
       "      <th>927</th>\n",
       "      <td>Yes</td>\n",
       "      <td>No</td>\n",
       "    </tr>\n",
       "    <tr>\n",
       "      <th>1200</th>\n",
       "      <td>Yes</td>\n",
       "      <td>No</td>\n",
       "    </tr>\n",
       "    <tr>\n",
       "      <th>1497</th>\n",
       "      <td>No</td>\n",
       "      <td>No</td>\n",
       "    </tr>\n",
       "    <tr>\n",
       "      <th>...</th>\n",
       "      <td>...</td>\n",
       "      <td>...</td>\n",
       "    </tr>\n",
       "    <tr>\n",
       "      <th>532</th>\n",
       "      <td>No</td>\n",
       "      <td>No</td>\n",
       "    </tr>\n",
       "    <tr>\n",
       "      <th>977</th>\n",
       "      <td>Yes</td>\n",
       "      <td>No</td>\n",
       "    </tr>\n",
       "    <tr>\n",
       "      <th>1775</th>\n",
       "      <td>No</td>\n",
       "      <td>No</td>\n",
       "    </tr>\n",
       "    <tr>\n",
       "      <th>1412</th>\n",
       "      <td>No</td>\n",
       "      <td>No</td>\n",
       "    </tr>\n",
       "    <tr>\n",
       "      <th>893</th>\n",
       "      <td>No</td>\n",
       "      <td>No</td>\n",
       "    </tr>\n",
       "  </tbody>\n",
       "</table>\n",
       "<p>100 rows × 2 columns</p>\n",
       "</div>"
      ],
      "text/plain": [
       "           Actual Predicted\n",
       "EmployeeID                 \n",
       "1256           No        No\n",
       "844            No        No\n",
       "927           Yes        No\n",
       "1200          Yes        No\n",
       "1497           No        No\n",
       "...           ...       ...\n",
       "532            No        No\n",
       "977           Yes        No\n",
       "1775           No        No\n",
       "1412           No        No\n",
       "893            No        No\n",
       "\n",
       "[100 rows x 2 columns]"
      ]
     },
     "execution_count": 86,
     "metadata": {},
     "output_type": "execute_result"
    }
   ],
   "source": [
    "#Dataframe of Predicted Output and Actual Output for Test set\n",
    "\n",
    "df2_validate = pd.DataFrame({'Actual':y_test,'Predicted':y_prediction})\n",
    "\n",
    "\n",
    "#Create Data Frame\n",
    "df2_validate['Predicted']=df2_validate['Predicted']\n",
    "\n",
    "df2_validate.head(100)"
   ]
  },
  {
   "cell_type": "markdown",
   "id": "e0d46f93",
   "metadata": {},
   "source": [
    "# Performance Validation - Confusion Matrix"
   ]
  },
  {
   "cell_type": "code",
   "execution_count": 87,
   "id": "578cc097",
   "metadata": {},
   "outputs": [
    {
     "data": {
      "text/html": [
       "<div>\n",
       "<style scoped>\n",
       "    .dataframe tbody tr th:only-of-type {\n",
       "        vertical-align: middle;\n",
       "    }\n",
       "\n",
       "    .dataframe tbody tr th {\n",
       "        vertical-align: top;\n",
       "    }\n",
       "\n",
       "    .dataframe thead th {\n",
       "        text-align: right;\n",
       "    }\n",
       "</style>\n",
       "<table border=\"1\" class=\"dataframe\">\n",
       "  <thead>\n",
       "    <tr style=\"text-align: right;\">\n",
       "      <th>Attrition</th>\n",
       "      <th>No</th>\n",
       "      <th>Yes</th>\n",
       "    </tr>\n",
       "    <tr>\n",
       "      <th>row_0</th>\n",
       "      <th></th>\n",
       "      <th></th>\n",
       "    </tr>\n",
       "  </thead>\n",
       "  <tbody>\n",
       "    <tr>\n",
       "      <th>No</th>\n",
       "      <td>245</td>\n",
       "      <td>40</td>\n",
       "    </tr>\n",
       "    <tr>\n",
       "      <th>Yes</th>\n",
       "      <td>2</td>\n",
       "      <td>7</td>\n",
       "    </tr>\n",
       "  </tbody>\n",
       "</table>\n",
       "</div>"
      ],
      "text/plain": [
       "Attrition   No  Yes\n",
       "row_0              \n",
       "No         245   40\n",
       "Yes          2    7"
      ]
     },
     "execution_count": 87,
     "metadata": {},
     "output_type": "execute_result"
    }
   ],
   "source": [
    "attrition_performance_validation=pd.crosstab(y_prediction, y_test)\n",
    "attrition_performance_validation"
   ]
  },
  {
   "cell_type": "code",
   "execution_count": 88,
   "id": "3243a3d9",
   "metadata": {},
   "outputs": [
    {
     "name": "stdout",
     "output_type": "stream",
     "text": [
      "              precision    recall  f1-score   support\n",
      "\n",
      "          No       0.86      0.99      0.92       247\n",
      "         Yes       0.78      0.15      0.25        47\n",
      "\n",
      "    accuracy                           0.86       294\n",
      "   macro avg       0.82      0.57      0.59       294\n",
      "weighted avg       0.85      0.86      0.81       294\n",
      "\n"
     ]
    }
   ],
   "source": [
    "# Generate Results\n",
    "\n",
    "from sklearn.metrics import classification_report\n",
    "\n",
    "print(classification_report(y_true = y_test, y_pred=y_prediction))"
   ]
  },
  {
   "cell_type": "markdown",
   "id": "91faf735",
   "metadata": {},
   "source": [
    "--------"
   ]
  },
  {
   "cell_type": "markdown",
   "id": "902a96d8",
   "metadata": {},
   "source": [
    "## Algorithm Training for Naive Bayes"
   ]
  },
  {
   "cell_type": "code",
   "execution_count": 89,
   "id": "7570b36d",
   "metadata": {},
   "outputs": [],
   "source": [
    "# Create a new dataframe with new list of variables (sama as Logistic Regresion)\n",
    "\n",
    "df3 = df[['Age', 'BusinessTravel', 'MonthlyIncome', 'JobSatisfaction', 'Bonus', 'Department',\n",
    "        'DistanceFromHome','EnvSatisfaction','MaritalStatus','YearsAtCompany', 'OverTime', 'Attrition']] "
   ]
  },
  {
   "cell_type": "code",
   "execution_count": 90,
   "id": "bfa6ffb1",
   "metadata": {},
   "outputs": [],
   "source": [
    "# assign input and output\n",
    "\n",
    "x1 = df3.iloc[:,:-1]\n",
    "y1 = df3.iloc[:, -1]"
   ]
  },
  {
   "cell_type": "code",
   "execution_count": 91,
   "id": "d9b2a898",
   "metadata": {},
   "outputs": [
    {
     "data": {
      "text/html": [
       "<div>\n",
       "<style scoped>\n",
       "    .dataframe tbody tr th:only-of-type {\n",
       "        vertical-align: middle;\n",
       "    }\n",
       "\n",
       "    .dataframe tbody tr th {\n",
       "        vertical-align: top;\n",
       "    }\n",
       "\n",
       "    .dataframe thead th {\n",
       "        text-align: right;\n",
       "    }\n",
       "</style>\n",
       "<table border=\"1\" class=\"dataframe\">\n",
       "  <thead>\n",
       "    <tr style=\"text-align: right;\">\n",
       "      <th></th>\n",
       "      <th>Age</th>\n",
       "      <th>BusinessTravel</th>\n",
       "      <th>MonthlyIncome</th>\n",
       "      <th>JobSatisfaction</th>\n",
       "      <th>Bonus</th>\n",
       "      <th>Department</th>\n",
       "      <th>DistanceFromHome</th>\n",
       "      <th>EnvSatisfaction</th>\n",
       "      <th>MaritalStatus</th>\n",
       "      <th>YearsAtCompany</th>\n",
       "      <th>OverTime</th>\n",
       "    </tr>\n",
       "    <tr>\n",
       "      <th>EmployeeID</th>\n",
       "      <th></th>\n",
       "      <th></th>\n",
       "      <th></th>\n",
       "      <th></th>\n",
       "      <th></th>\n",
       "      <th></th>\n",
       "      <th></th>\n",
       "      <th></th>\n",
       "      <th></th>\n",
       "      <th></th>\n",
       "      <th></th>\n",
       "    </tr>\n",
       "  </thead>\n",
       "  <tbody>\n",
       "    <tr>\n",
       "      <th>1</th>\n",
       "      <td>41</td>\n",
       "      <td>Travel_Rarely</td>\n",
       "      <td>5993</td>\n",
       "      <td>4</td>\n",
       "      <td>17979</td>\n",
       "      <td>Sales</td>\n",
       "      <td>1</td>\n",
       "      <td>2</td>\n",
       "      <td>Single</td>\n",
       "      <td>6</td>\n",
       "      <td>Yes</td>\n",
       "    </tr>\n",
       "    <tr>\n",
       "      <th>2</th>\n",
       "      <td>49</td>\n",
       "      <td>Travel_Frequently</td>\n",
       "      <td>5130</td>\n",
       "      <td>2</td>\n",
       "      <td>20520</td>\n",
       "      <td>Research &amp; Development</td>\n",
       "      <td>8</td>\n",
       "      <td>3</td>\n",
       "      <td>Married</td>\n",
       "      <td>10</td>\n",
       "      <td>No</td>\n",
       "    </tr>\n",
       "    <tr>\n",
       "      <th>4</th>\n",
       "      <td>37</td>\n",
       "      <td>Travel_Rarely</td>\n",
       "      <td>2090</td>\n",
       "      <td>3</td>\n",
       "      <td>6270</td>\n",
       "      <td>Research &amp; Development</td>\n",
       "      <td>2</td>\n",
       "      <td>4</td>\n",
       "      <td>Single</td>\n",
       "      <td>0</td>\n",
       "      <td>Yes</td>\n",
       "    </tr>\n",
       "    <tr>\n",
       "      <th>5</th>\n",
       "      <td>33</td>\n",
       "      <td>Travel_Frequently</td>\n",
       "      <td>2909</td>\n",
       "      <td>3</td>\n",
       "      <td>8727</td>\n",
       "      <td>Research &amp; Development</td>\n",
       "      <td>3</td>\n",
       "      <td>4</td>\n",
       "      <td>Married</td>\n",
       "      <td>8</td>\n",
       "      <td>Yes</td>\n",
       "    </tr>\n",
       "    <tr>\n",
       "      <th>7</th>\n",
       "      <td>27</td>\n",
       "      <td>Travel_Rarely</td>\n",
       "      <td>3468</td>\n",
       "      <td>2</td>\n",
       "      <td>10404</td>\n",
       "      <td>Research &amp; Development</td>\n",
       "      <td>2</td>\n",
       "      <td>1</td>\n",
       "      <td>Married</td>\n",
       "      <td>2</td>\n",
       "      <td>No</td>\n",
       "    </tr>\n",
       "    <tr>\n",
       "      <th>...</th>\n",
       "      <td>...</td>\n",
       "      <td>...</td>\n",
       "      <td>...</td>\n",
       "      <td>...</td>\n",
       "      <td>...</td>\n",
       "      <td>...</td>\n",
       "      <td>...</td>\n",
       "      <td>...</td>\n",
       "      <td>...</td>\n",
       "      <td>...</td>\n",
       "      <td>...</td>\n",
       "    </tr>\n",
       "    <tr>\n",
       "      <th>2061</th>\n",
       "      <td>36</td>\n",
       "      <td>Travel_Frequently</td>\n",
       "      <td>2571</td>\n",
       "      <td>4</td>\n",
       "      <td>7713</td>\n",
       "      <td>Research &amp; Development</td>\n",
       "      <td>23</td>\n",
       "      <td>3</td>\n",
       "      <td>Married</td>\n",
       "      <td>5</td>\n",
       "      <td>No</td>\n",
       "    </tr>\n",
       "    <tr>\n",
       "      <th>2062</th>\n",
       "      <td>39</td>\n",
       "      <td>Travel_Rarely</td>\n",
       "      <td>9991</td>\n",
       "      <td>1</td>\n",
       "      <td>29973</td>\n",
       "      <td>Research &amp; Development</td>\n",
       "      <td>6</td>\n",
       "      <td>4</td>\n",
       "      <td>Married</td>\n",
       "      <td>7</td>\n",
       "      <td>No</td>\n",
       "    </tr>\n",
       "    <tr>\n",
       "      <th>2064</th>\n",
       "      <td>27</td>\n",
       "      <td>Travel_Rarely</td>\n",
       "      <td>6142</td>\n",
       "      <td>2</td>\n",
       "      <td>24568</td>\n",
       "      <td>Research &amp; Development</td>\n",
       "      <td>4</td>\n",
       "      <td>2</td>\n",
       "      <td>Married</td>\n",
       "      <td>6</td>\n",
       "      <td>Yes</td>\n",
       "    </tr>\n",
       "    <tr>\n",
       "      <th>2065</th>\n",
       "      <td>49</td>\n",
       "      <td>Travel_Frequently</td>\n",
       "      <td>5390</td>\n",
       "      <td>2</td>\n",
       "      <td>16170</td>\n",
       "      <td>Sales</td>\n",
       "      <td>2</td>\n",
       "      <td>4</td>\n",
       "      <td>Married</td>\n",
       "      <td>9</td>\n",
       "      <td>No</td>\n",
       "    </tr>\n",
       "    <tr>\n",
       "      <th>2068</th>\n",
       "      <td>34</td>\n",
       "      <td>Travel_Rarely</td>\n",
       "      <td>4404</td>\n",
       "      <td>3</td>\n",
       "      <td>13212</td>\n",
       "      <td>Research &amp; Development</td>\n",
       "      <td>8</td>\n",
       "      <td>2</td>\n",
       "      <td>Married</td>\n",
       "      <td>4</td>\n",
       "      <td>No</td>\n",
       "    </tr>\n",
       "  </tbody>\n",
       "</table>\n",
       "<p>1470 rows × 11 columns</p>\n",
       "</div>"
      ],
      "text/plain": [
       "            Age     BusinessTravel  MonthlyIncome  JobSatisfaction  Bonus  \\\n",
       "EmployeeID                                                                  \n",
       "1            41      Travel_Rarely           5993                4  17979   \n",
       "2            49  Travel_Frequently           5130                2  20520   \n",
       "4            37      Travel_Rarely           2090                3   6270   \n",
       "5            33  Travel_Frequently           2909                3   8727   \n",
       "7            27      Travel_Rarely           3468                2  10404   \n",
       "...         ...                ...            ...              ...    ...   \n",
       "2061         36  Travel_Frequently           2571                4   7713   \n",
       "2062         39      Travel_Rarely           9991                1  29973   \n",
       "2064         27      Travel_Rarely           6142                2  24568   \n",
       "2065         49  Travel_Frequently           5390                2  16170   \n",
       "2068         34      Travel_Rarely           4404                3  13212   \n",
       "\n",
       "                        Department  DistanceFromHome  EnvSatisfaction  \\\n",
       "EmployeeID                                                              \n",
       "1                            Sales                 1                2   \n",
       "2           Research & Development                 8                3   \n",
       "4           Research & Development                 2                4   \n",
       "5           Research & Development                 3                4   \n",
       "7           Research & Development                 2                1   \n",
       "...                            ...               ...              ...   \n",
       "2061        Research & Development                23                3   \n",
       "2062        Research & Development                 6                4   \n",
       "2064        Research & Development                 4                2   \n",
       "2065                         Sales                 2                4   \n",
       "2068        Research & Development                 8                2   \n",
       "\n",
       "           MaritalStatus  YearsAtCompany OverTime  \n",
       "EmployeeID                                         \n",
       "1                 Single               6      Yes  \n",
       "2                Married              10       No  \n",
       "4                 Single               0      Yes  \n",
       "5                Married               8      Yes  \n",
       "7                Married               2       No  \n",
       "...                  ...             ...      ...  \n",
       "2061             Married               5       No  \n",
       "2062             Married               7       No  \n",
       "2064             Married               6      Yes  \n",
       "2065             Married               9       No  \n",
       "2068             Married               4       No  \n",
       "\n",
       "[1470 rows x 11 columns]"
      ]
     },
     "execution_count": 91,
     "metadata": {},
     "output_type": "execute_result"
    }
   ],
   "source": [
    "x1"
   ]
  },
  {
   "cell_type": "code",
   "execution_count": 92,
   "id": "f94d1405",
   "metadata": {},
   "outputs": [
    {
     "data": {
      "text/plain": [
       "(1470,)"
      ]
     },
     "execution_count": 92,
     "metadata": {},
     "output_type": "execute_result"
    }
   ],
   "source": [
    "y1.shape"
   ]
  },
  {
   "cell_type": "code",
   "execution_count": 93,
   "id": "2a8f9b36",
   "metadata": {},
   "outputs": [
    {
     "data": {
      "text/html": [
       "<div>\n",
       "<style scoped>\n",
       "    .dataframe tbody tr th:only-of-type {\n",
       "        vertical-align: middle;\n",
       "    }\n",
       "\n",
       "    .dataframe tbody tr th {\n",
       "        vertical-align: top;\n",
       "    }\n",
       "\n",
       "    .dataframe thead th {\n",
       "        text-align: right;\n",
       "    }\n",
       "</style>\n",
       "<table border=\"1\" class=\"dataframe\">\n",
       "  <thead>\n",
       "    <tr style=\"text-align: right;\">\n",
       "      <th></th>\n",
       "      <th>Age</th>\n",
       "      <th>MonthlyIncome</th>\n",
       "      <th>JobSatisfaction</th>\n",
       "      <th>Bonus</th>\n",
       "      <th>DistanceFromHome</th>\n",
       "      <th>EnvSatisfaction</th>\n",
       "      <th>YearsAtCompany</th>\n",
       "      <th>BusinessTravel_Travel_Frequently</th>\n",
       "      <th>BusinessTravel_Travel_Rarely</th>\n",
       "      <th>Department_Research &amp; Development</th>\n",
       "      <th>Department_Sales</th>\n",
       "      <th>MaritalStatus_Married</th>\n",
       "      <th>MaritalStatus_Single</th>\n",
       "      <th>OverTime_Yes</th>\n",
       "    </tr>\n",
       "    <tr>\n",
       "      <th>EmployeeID</th>\n",
       "      <th></th>\n",
       "      <th></th>\n",
       "      <th></th>\n",
       "      <th></th>\n",
       "      <th></th>\n",
       "      <th></th>\n",
       "      <th></th>\n",
       "      <th></th>\n",
       "      <th></th>\n",
       "      <th></th>\n",
       "      <th></th>\n",
       "      <th></th>\n",
       "      <th></th>\n",
       "      <th></th>\n",
       "    </tr>\n",
       "  </thead>\n",
       "  <tbody>\n",
       "    <tr>\n",
       "      <th>1</th>\n",
       "      <td>41</td>\n",
       "      <td>5993</td>\n",
       "      <td>4</td>\n",
       "      <td>17979</td>\n",
       "      <td>1</td>\n",
       "      <td>2</td>\n",
       "      <td>6</td>\n",
       "      <td>0</td>\n",
       "      <td>1</td>\n",
       "      <td>0</td>\n",
       "      <td>1</td>\n",
       "      <td>0</td>\n",
       "      <td>1</td>\n",
       "      <td>1</td>\n",
       "    </tr>\n",
       "    <tr>\n",
       "      <th>2</th>\n",
       "      <td>49</td>\n",
       "      <td>5130</td>\n",
       "      <td>2</td>\n",
       "      <td>20520</td>\n",
       "      <td>8</td>\n",
       "      <td>3</td>\n",
       "      <td>10</td>\n",
       "      <td>1</td>\n",
       "      <td>0</td>\n",
       "      <td>1</td>\n",
       "      <td>0</td>\n",
       "      <td>1</td>\n",
       "      <td>0</td>\n",
       "      <td>0</td>\n",
       "    </tr>\n",
       "    <tr>\n",
       "      <th>4</th>\n",
       "      <td>37</td>\n",
       "      <td>2090</td>\n",
       "      <td>3</td>\n",
       "      <td>6270</td>\n",
       "      <td>2</td>\n",
       "      <td>4</td>\n",
       "      <td>0</td>\n",
       "      <td>0</td>\n",
       "      <td>1</td>\n",
       "      <td>1</td>\n",
       "      <td>0</td>\n",
       "      <td>0</td>\n",
       "      <td>1</td>\n",
       "      <td>1</td>\n",
       "    </tr>\n",
       "    <tr>\n",
       "      <th>5</th>\n",
       "      <td>33</td>\n",
       "      <td>2909</td>\n",
       "      <td>3</td>\n",
       "      <td>8727</td>\n",
       "      <td>3</td>\n",
       "      <td>4</td>\n",
       "      <td>8</td>\n",
       "      <td>1</td>\n",
       "      <td>0</td>\n",
       "      <td>1</td>\n",
       "      <td>0</td>\n",
       "      <td>1</td>\n",
       "      <td>0</td>\n",
       "      <td>1</td>\n",
       "    </tr>\n",
       "    <tr>\n",
       "      <th>7</th>\n",
       "      <td>27</td>\n",
       "      <td>3468</td>\n",
       "      <td>2</td>\n",
       "      <td>10404</td>\n",
       "      <td>2</td>\n",
       "      <td>1</td>\n",
       "      <td>2</td>\n",
       "      <td>0</td>\n",
       "      <td>1</td>\n",
       "      <td>1</td>\n",
       "      <td>0</td>\n",
       "      <td>1</td>\n",
       "      <td>0</td>\n",
       "      <td>0</td>\n",
       "    </tr>\n",
       "    <tr>\n",
       "      <th>8</th>\n",
       "      <td>32</td>\n",
       "      <td>3068</td>\n",
       "      <td>4</td>\n",
       "      <td>9204</td>\n",
       "      <td>2</td>\n",
       "      <td>4</td>\n",
       "      <td>7</td>\n",
       "      <td>1</td>\n",
       "      <td>0</td>\n",
       "      <td>1</td>\n",
       "      <td>0</td>\n",
       "      <td>0</td>\n",
       "      <td>1</td>\n",
       "      <td>0</td>\n",
       "    </tr>\n",
       "    <tr>\n",
       "      <th>10</th>\n",
       "      <td>59</td>\n",
       "      <td>2670</td>\n",
       "      <td>1</td>\n",
       "      <td>10680</td>\n",
       "      <td>3</td>\n",
       "      <td>3</td>\n",
       "      <td>1</td>\n",
       "      <td>0</td>\n",
       "      <td>1</td>\n",
       "      <td>1</td>\n",
       "      <td>0</td>\n",
       "      <td>1</td>\n",
       "      <td>0</td>\n",
       "      <td>1</td>\n",
       "    </tr>\n",
       "    <tr>\n",
       "      <th>11</th>\n",
       "      <td>30</td>\n",
       "      <td>2693</td>\n",
       "      <td>3</td>\n",
       "      <td>10772</td>\n",
       "      <td>24</td>\n",
       "      <td>4</td>\n",
       "      <td>1</td>\n",
       "      <td>0</td>\n",
       "      <td>1</td>\n",
       "      <td>1</td>\n",
       "      <td>0</td>\n",
       "      <td>0</td>\n",
       "      <td>0</td>\n",
       "      <td>0</td>\n",
       "    </tr>\n",
       "    <tr>\n",
       "      <th>12</th>\n",
       "      <td>38</td>\n",
       "      <td>9526</td>\n",
       "      <td>3</td>\n",
       "      <td>38104</td>\n",
       "      <td>23</td>\n",
       "      <td>4</td>\n",
       "      <td>9</td>\n",
       "      <td>1</td>\n",
       "      <td>0</td>\n",
       "      <td>1</td>\n",
       "      <td>0</td>\n",
       "      <td>0</td>\n",
       "      <td>1</td>\n",
       "      <td>0</td>\n",
       "    </tr>\n",
       "    <tr>\n",
       "      <th>13</th>\n",
       "      <td>36</td>\n",
       "      <td>5237</td>\n",
       "      <td>3</td>\n",
       "      <td>15711</td>\n",
       "      <td>27</td>\n",
       "      <td>3</td>\n",
       "      <td>7</td>\n",
       "      <td>0</td>\n",
       "      <td>1</td>\n",
       "      <td>1</td>\n",
       "      <td>0</td>\n",
       "      <td>1</td>\n",
       "      <td>0</td>\n",
       "      <td>0</td>\n",
       "    </tr>\n",
       "  </tbody>\n",
       "</table>\n",
       "</div>"
      ],
      "text/plain": [
       "            Age  MonthlyIncome  JobSatisfaction  Bonus  DistanceFromHome  \\\n",
       "EmployeeID                                                                 \n",
       "1            41           5993                4  17979                 1   \n",
       "2            49           5130                2  20520                 8   \n",
       "4            37           2090                3   6270                 2   \n",
       "5            33           2909                3   8727                 3   \n",
       "7            27           3468                2  10404                 2   \n",
       "8            32           3068                4   9204                 2   \n",
       "10           59           2670                1  10680                 3   \n",
       "11           30           2693                3  10772                24   \n",
       "12           38           9526                3  38104                23   \n",
       "13           36           5237                3  15711                27   \n",
       "\n",
       "            EnvSatisfaction  YearsAtCompany  BusinessTravel_Travel_Frequently  \\\n",
       "EmployeeID                                                                      \n",
       "1                         2               6                                 0   \n",
       "2                         3              10                                 1   \n",
       "4                         4               0                                 0   \n",
       "5                         4               8                                 1   \n",
       "7                         1               2                                 0   \n",
       "8                         4               7                                 1   \n",
       "10                        3               1                                 0   \n",
       "11                        4               1                                 0   \n",
       "12                        4               9                                 1   \n",
       "13                        3               7                                 0   \n",
       "\n",
       "            BusinessTravel_Travel_Rarely  Department_Research & Development  \\\n",
       "EmployeeID                                                                    \n",
       "1                                      1                                  0   \n",
       "2                                      0                                  1   \n",
       "4                                      1                                  1   \n",
       "5                                      0                                  1   \n",
       "7                                      1                                  1   \n",
       "8                                      0                                  1   \n",
       "10                                     1                                  1   \n",
       "11                                     1                                  1   \n",
       "12                                     0                                  1   \n",
       "13                                     1                                  1   \n",
       "\n",
       "            Department_Sales  MaritalStatus_Married  MaritalStatus_Single  \\\n",
       "EmployeeID                                                                  \n",
       "1                          1                      0                     1   \n",
       "2                          0                      1                     0   \n",
       "4                          0                      0                     1   \n",
       "5                          0                      1                     0   \n",
       "7                          0                      1                     0   \n",
       "8                          0                      0                     1   \n",
       "10                         0                      1                     0   \n",
       "11                         0                      0                     0   \n",
       "12                         0                      0                     1   \n",
       "13                         0                      1                     0   \n",
       "\n",
       "            OverTime_Yes  \n",
       "EmployeeID                \n",
       "1                      1  \n",
       "2                      0  \n",
       "4                      1  \n",
       "5                      1  \n",
       "7                      0  \n",
       "8                      0  \n",
       "10                     1  \n",
       "11                     0  \n",
       "12                     0  \n",
       "13                     0  "
      ]
     },
     "execution_count": 93,
     "metadata": {},
     "output_type": "execute_result"
    }
   ],
   "source": [
    "#Transform Categorical to Encoded Dummy Numeric Variable\n",
    "\n",
    "\n",
    "x1 = pd.get_dummies(x1,drop_first=True)\n",
    "x1.head(10)"
   ]
  },
  {
   "cell_type": "code",
   "execution_count": 94,
   "id": "e1f5f4ea",
   "metadata": {},
   "outputs": [],
   "source": [
    "#Data partition - split data into 80:20\n",
    "\n",
    "x1_train, x1_test, y1_train, y1_test = train_test_split(x1,y1, test_size=0.2, random_state=0, stratify = y1)"
   ]
  },
  {
   "cell_type": "code",
   "execution_count": 95,
   "id": "380398fe",
   "metadata": {},
   "outputs": [
    {
     "data": {
      "text/html": [
       "<div>\n",
       "<style scoped>\n",
       "    .dataframe tbody tr th:only-of-type {\n",
       "        vertical-align: middle;\n",
       "    }\n",
       "\n",
       "    .dataframe tbody tr th {\n",
       "        vertical-align: top;\n",
       "    }\n",
       "\n",
       "    .dataframe thead th {\n",
       "        text-align: right;\n",
       "    }\n",
       "</style>\n",
       "<table border=\"1\" class=\"dataframe\">\n",
       "  <thead>\n",
       "    <tr style=\"text-align: right;\">\n",
       "      <th></th>\n",
       "      <th>Age</th>\n",
       "      <th>MonthlyIncome</th>\n",
       "      <th>JobSatisfaction</th>\n",
       "      <th>Bonus</th>\n",
       "      <th>DistanceFromHome</th>\n",
       "      <th>EnvSatisfaction</th>\n",
       "      <th>YearsAtCompany</th>\n",
       "      <th>BusinessTravel_Travel_Frequently</th>\n",
       "      <th>BusinessTravel_Travel_Rarely</th>\n",
       "      <th>Department_Research &amp; Development</th>\n",
       "      <th>Department_Sales</th>\n",
       "      <th>MaritalStatus_Married</th>\n",
       "      <th>MaritalStatus_Single</th>\n",
       "      <th>OverTime_Yes</th>\n",
       "    </tr>\n",
       "    <tr>\n",
       "      <th>EmployeeID</th>\n",
       "      <th></th>\n",
       "      <th></th>\n",
       "      <th></th>\n",
       "      <th></th>\n",
       "      <th></th>\n",
       "      <th></th>\n",
       "      <th></th>\n",
       "      <th></th>\n",
       "      <th></th>\n",
       "      <th></th>\n",
       "      <th></th>\n",
       "      <th></th>\n",
       "      <th></th>\n",
       "      <th></th>\n",
       "    </tr>\n",
       "  </thead>\n",
       "  <tbody>\n",
       "    <tr>\n",
       "      <th>329</th>\n",
       "      <td>52</td>\n",
       "      <td>19068</td>\n",
       "      <td>3</td>\n",
       "      <td>57204</td>\n",
       "      <td>2</td>\n",
       "      <td>1</td>\n",
       "      <td>33</td>\n",
       "      <td>0</td>\n",
       "      <td>0</td>\n",
       "      <td>0</td>\n",
       "      <td>1</td>\n",
       "      <td>0</td>\n",
       "      <td>1</td>\n",
       "      <td>1</td>\n",
       "    </tr>\n",
       "    <tr>\n",
       "      <th>757</th>\n",
       "      <td>34</td>\n",
       "      <td>6142</td>\n",
       "      <td>3</td>\n",
       "      <td>18426</td>\n",
       "      <td>8</td>\n",
       "      <td>2</td>\n",
       "      <td>5</td>\n",
       "      <td>0</td>\n",
       "      <td>1</td>\n",
       "      <td>1</td>\n",
       "      <td>0</td>\n",
       "      <td>0</td>\n",
       "      <td>1</td>\n",
       "      <td>0</td>\n",
       "    </tr>\n",
       "    <tr>\n",
       "      <th>1319</th>\n",
       "      <td>52</td>\n",
       "      <td>8446</td>\n",
       "      <td>2</td>\n",
       "      <td>25338</td>\n",
       "      <td>5</td>\n",
       "      <td>2</td>\n",
       "      <td>8</td>\n",
       "      <td>0</td>\n",
       "      <td>1</td>\n",
       "      <td>0</td>\n",
       "      <td>1</td>\n",
       "      <td>0</td>\n",
       "      <td>1</td>\n",
       "      <td>1</td>\n",
       "    </tr>\n",
       "    <tr>\n",
       "      <th>1880</th>\n",
       "      <td>36</td>\n",
       "      <td>5673</td>\n",
       "      <td>3</td>\n",
       "      <td>17019</td>\n",
       "      <td>10</td>\n",
       "      <td>2</td>\n",
       "      <td>10</td>\n",
       "      <td>0</td>\n",
       "      <td>1</td>\n",
       "      <td>0</td>\n",
       "      <td>1</td>\n",
       "      <td>1</td>\n",
       "      <td>0</td>\n",
       "      <td>1</td>\n",
       "    </tr>\n",
       "    <tr>\n",
       "      <th>1783</th>\n",
       "      <td>22</td>\n",
       "      <td>2398</td>\n",
       "      <td>1</td>\n",
       "      <td>7194</td>\n",
       "      <td>8</td>\n",
       "      <td>3</td>\n",
       "      <td>1</td>\n",
       "      <td>0</td>\n",
       "      <td>1</td>\n",
       "      <td>1</td>\n",
       "      <td>0</td>\n",
       "      <td>1</td>\n",
       "      <td>0</td>\n",
       "      <td>1</td>\n",
       "    </tr>\n",
       "  </tbody>\n",
       "</table>\n",
       "</div>"
      ],
      "text/plain": [
       "            Age  MonthlyIncome  JobSatisfaction  Bonus  DistanceFromHome  \\\n",
       "EmployeeID                                                                 \n",
       "329          52          19068                3  57204                 2   \n",
       "757          34           6142                3  18426                 8   \n",
       "1319         52           8446                2  25338                 5   \n",
       "1880         36           5673                3  17019                10   \n",
       "1783         22           2398                1   7194                 8   \n",
       "\n",
       "            EnvSatisfaction  YearsAtCompany  BusinessTravel_Travel_Frequently  \\\n",
       "EmployeeID                                                                      \n",
       "329                       1              33                                 0   \n",
       "757                       2               5                                 0   \n",
       "1319                      2               8                                 0   \n",
       "1880                      2              10                                 0   \n",
       "1783                      3               1                                 0   \n",
       "\n",
       "            BusinessTravel_Travel_Rarely  Department_Research & Development  \\\n",
       "EmployeeID                                                                    \n",
       "329                                    0                                  0   \n",
       "757                                    1                                  1   \n",
       "1319                                   1                                  0   \n",
       "1880                                   1                                  0   \n",
       "1783                                   1                                  1   \n",
       "\n",
       "            Department_Sales  MaritalStatus_Married  MaritalStatus_Single  \\\n",
       "EmployeeID                                                                  \n",
       "329                        1                      0                     1   \n",
       "757                        0                      0                     1   \n",
       "1319                       1                      0                     1   \n",
       "1880                       1                      1                     0   \n",
       "1783                       0                      1                     0   \n",
       "\n",
       "            OverTime_Yes  \n",
       "EmployeeID                \n",
       "329                    1  \n",
       "757                    0  \n",
       "1319                   1  \n",
       "1880                   1  \n",
       "1783                   1  "
      ]
     },
     "execution_count": 95,
     "metadata": {},
     "output_type": "execute_result"
    }
   ],
   "source": [
    "x1_train.head()"
   ]
  },
  {
   "cell_type": "code",
   "execution_count": 96,
   "id": "5a9e7a18",
   "metadata": {},
   "outputs": [
    {
     "data": {
      "text/plain": [
       "No     986\n",
       "Yes    190\n",
       "Name: Attrition, dtype: int64"
      ]
     },
     "execution_count": 96,
     "metadata": {},
     "output_type": "execute_result"
    }
   ],
   "source": [
    "y1_train.value_counts()"
   ]
  },
  {
   "cell_type": "code",
   "execution_count": 97,
   "id": "3cdb5ccd",
   "metadata": {},
   "outputs": [
    {
     "data": {
      "text/plain": [
       "No     247\n",
       "Yes     47\n",
       "Name: Attrition, dtype: int64"
      ]
     },
     "execution_count": 97,
     "metadata": {},
     "output_type": "execute_result"
    }
   ],
   "source": [
    "y1_test.value_counts()"
   ]
  },
  {
   "cell_type": "code",
   "execution_count": 98,
   "id": "71fe38be",
   "metadata": {},
   "outputs": [],
   "source": [
    "# Feature Scaling for Train Set\n",
    "\n",
    "\n",
    "scaler = StandardScaler()\n",
    "scaler.fit(x1_train)\n",
    "x1_train = scaler.transform(x1_train)"
   ]
  },
  {
   "cell_type": "code",
   "execution_count": 99,
   "id": "1edd5ac7",
   "metadata": {},
   "outputs": [
    {
     "data": {
      "text/plain": [
       "array([ 1.62586005,  0.39968402, -0.62751633,  0.3155723 , -0.52635304,\n",
       "       -0.66255557,  0.131221  , -0.48507125,  0.64168895, -1.37715349,\n",
       "        1.53311035, -0.918292  ,  1.44171219,  1.56806362])"
      ]
     },
     "execution_count": 99,
     "metadata": {},
     "output_type": "execute_result"
    }
   ],
   "source": [
    "x1_train[2]"
   ]
  },
  {
   "cell_type": "code",
   "execution_count": 100,
   "id": "c20532e6",
   "metadata": {},
   "outputs": [
    {
     "data": {
      "text/plain": [
       "GaussianNB()"
      ]
     },
     "execution_count": 100,
     "metadata": {},
     "output_type": "execute_result"
    }
   ],
   "source": [
    "## Train set using Naive Bayes\n",
    "\n",
    "#Import Gaussian Naive Bayes model\n",
    "from sklearn.naive_bayes import GaussianNB\n",
    "\n",
    "#Create a Gaussian Classifier\n",
    "class_models = GaussianNB()\n",
    "\n",
    "#Train the model using the training sets\n",
    "class_models.fit(x1_train,y1_train)"
   ]
  },
  {
   "cell_type": "code",
   "execution_count": 101,
   "id": "f1e2c199",
   "metadata": {},
   "outputs": [],
   "source": [
    "from sklearn.preprocessing import StandardScaler\n",
    "x1_test =  scaler.transform(x1_test)"
   ]
  },
  {
   "cell_type": "code",
   "execution_count": 102,
   "id": "d030972e",
   "metadata": {},
   "outputs": [
    {
     "data": {
      "text/plain": [
       "array([ 0.43098869, -0.7891494 ,  1.17899336, -0.80862056, -0.89465401,\n",
       "       -0.66255557, -0.02688955, -0.48507125,  0.64168895,  0.72613547,\n",
       "       -0.65226877, -0.918292  , -0.69361972,  1.56806362])"
      ]
     },
     "execution_count": 102,
     "metadata": {},
     "output_type": "execute_result"
    }
   ],
   "source": [
    "x1_test[2]"
   ]
  },
  {
   "cell_type": "markdown",
   "id": "8e8139d1",
   "metadata": {},
   "source": [
    "# Apply Test Set"
   ]
  },
  {
   "cell_type": "code",
   "execution_count": 103,
   "id": "87aac1f5",
   "metadata": {},
   "outputs": [],
   "source": [
    "# Apply for Test Set\n",
    "y1_pred=class_models.predict(x1_test)"
   ]
  },
  {
   "cell_type": "code",
   "execution_count": 104,
   "id": "705d0f40",
   "metadata": {},
   "outputs": [
    {
     "data": {
      "text/plain": [
       "array(['No', 'No', 'No', 'No', 'No', 'No', 'Yes', 'No', 'No', 'No', 'No',\n",
       "       'No', 'No', 'No', 'No', 'No', 'No', 'No', 'No', 'No', 'No', 'No',\n",
       "       'No', 'No', 'No', 'Yes', 'No', 'No', 'Yes', 'No', 'Yes', 'No',\n",
       "       'No', 'No', 'No', 'No', 'No', 'No', 'No', 'No', 'No', 'Yes', 'No',\n",
       "       'Yes', 'Yes', 'No', 'No', 'No', 'Yes', 'No', 'No', 'No', 'Yes',\n",
       "       'No', 'No', 'No', 'No', 'Yes', 'No', 'No', 'No', 'No', 'No', 'Yes',\n",
       "       'No', 'Yes', 'No', 'No', 'Yes', 'No', 'Yes', 'No', 'Yes', 'No',\n",
       "       'No', 'No', 'No', 'No', 'No', 'Yes', 'No', 'No', 'No', 'Yes', 'No',\n",
       "       'Yes', 'No', 'No', 'No', 'No', 'No', 'No', 'No', 'No', 'No', 'No',\n",
       "       'No', 'No', 'No', 'No', 'Yes', 'No', 'No', 'No', 'No', 'No', 'No',\n",
       "       'No', 'No', 'Yes', 'No', 'Yes', 'Yes', 'No', 'No', 'No', 'No',\n",
       "       'No', 'No', 'No', 'No', 'No', 'No', 'No', 'No', 'Yes', 'Yes', 'No',\n",
       "       'No', 'No', 'No', 'No', 'No', 'Yes', 'No', 'No', 'No', 'No', 'No',\n",
       "       'No', 'No', 'No', 'No', 'No', 'No', 'No', 'Yes', 'No', 'No', 'No',\n",
       "       'No', 'No', 'No', 'No', 'No', 'No', 'No', 'Yes', 'No', 'No', 'No',\n",
       "       'No', 'No', 'No', 'No', 'No', 'No', 'No', 'No', 'No', 'No', 'No',\n",
       "       'No', 'No', 'No', 'No', 'No', 'No', 'No', 'No', 'No', 'No', 'Yes',\n",
       "       'Yes', 'No', 'Yes', 'No', 'No', 'No', 'No', 'No', 'No', 'No',\n",
       "       'Yes', 'Yes', 'No', 'No', 'No', 'No', 'No', 'No', 'Yes', 'No',\n",
       "       'No', 'No', 'No', 'No', 'No', 'No', 'No', 'No', 'No', 'No', 'Yes',\n",
       "       'Yes', 'Yes', 'No', 'No', 'No', 'No', 'Yes', 'No', 'No', 'No',\n",
       "       'No', 'No', 'No', 'No', 'Yes', 'No', 'No', 'No', 'No', 'Yes', 'No',\n",
       "       'No', 'No', 'No', 'No', 'No', 'No', 'No', 'No', 'No', 'No', 'No',\n",
       "       'No', 'No', 'No', 'No', 'No', 'No', 'No', 'No', 'No', 'No', 'No',\n",
       "       'No', 'No', 'No', 'No', 'No', 'No', 'No', 'No', 'No', 'No', 'No',\n",
       "       'No', 'No', 'Yes', 'No', 'No', 'No', 'No', 'No', 'No', 'No', 'Yes',\n",
       "       'No', 'No', 'No', 'No', 'No', 'No', 'No', 'No', 'No', 'No', 'No',\n",
       "       'No', 'No', 'No', 'No'], dtype='<U3')"
      ]
     },
     "execution_count": 104,
     "metadata": {},
     "output_type": "execute_result"
    }
   ],
   "source": [
    "y1_pred"
   ]
  },
  {
   "cell_type": "code",
   "execution_count": 105,
   "id": "05951fd0",
   "metadata": {},
   "outputs": [
    {
     "data": {
      "text/html": [
       "<div>\n",
       "<style scoped>\n",
       "    .dataframe tbody tr th:only-of-type {\n",
       "        vertical-align: middle;\n",
       "    }\n",
       "\n",
       "    .dataframe tbody tr th {\n",
       "        vertical-align: top;\n",
       "    }\n",
       "\n",
       "    .dataframe thead th {\n",
       "        text-align: right;\n",
       "    }\n",
       "</style>\n",
       "<table border=\"1\" class=\"dataframe\">\n",
       "  <thead>\n",
       "    <tr style=\"text-align: right;\">\n",
       "      <th></th>\n",
       "      <th>Actual</th>\n",
       "      <th>Predicted</th>\n",
       "    </tr>\n",
       "    <tr>\n",
       "      <th>EmployeeID</th>\n",
       "      <th></th>\n",
       "      <th></th>\n",
       "    </tr>\n",
       "  </thead>\n",
       "  <tbody>\n",
       "    <tr>\n",
       "      <th>1256</th>\n",
       "      <td>No</td>\n",
       "      <td>No</td>\n",
       "    </tr>\n",
       "    <tr>\n",
       "      <th>844</th>\n",
       "      <td>No</td>\n",
       "      <td>No</td>\n",
       "    </tr>\n",
       "    <tr>\n",
       "      <th>927</th>\n",
       "      <td>Yes</td>\n",
       "      <td>No</td>\n",
       "    </tr>\n",
       "    <tr>\n",
       "      <th>1200</th>\n",
       "      <td>Yes</td>\n",
       "      <td>No</td>\n",
       "    </tr>\n",
       "    <tr>\n",
       "      <th>1497</th>\n",
       "      <td>No</td>\n",
       "      <td>No</td>\n",
       "    </tr>\n",
       "    <tr>\n",
       "      <th>...</th>\n",
       "      <td>...</td>\n",
       "      <td>...</td>\n",
       "    </tr>\n",
       "    <tr>\n",
       "      <th>532</th>\n",
       "      <td>No</td>\n",
       "      <td>No</td>\n",
       "    </tr>\n",
       "    <tr>\n",
       "      <th>977</th>\n",
       "      <td>Yes</td>\n",
       "      <td>No</td>\n",
       "    </tr>\n",
       "    <tr>\n",
       "      <th>1775</th>\n",
       "      <td>No</td>\n",
       "      <td>No</td>\n",
       "    </tr>\n",
       "    <tr>\n",
       "      <th>1412</th>\n",
       "      <td>No</td>\n",
       "      <td>No</td>\n",
       "    </tr>\n",
       "    <tr>\n",
       "      <th>893</th>\n",
       "      <td>No</td>\n",
       "      <td>No</td>\n",
       "    </tr>\n",
       "  </tbody>\n",
       "</table>\n",
       "<p>100 rows × 2 columns</p>\n",
       "</div>"
      ],
      "text/plain": [
       "           Actual Predicted\n",
       "EmployeeID                 \n",
       "1256           No        No\n",
       "844            No        No\n",
       "927           Yes        No\n",
       "1200          Yes        No\n",
       "1497           No        No\n",
       "...           ...       ...\n",
       "532            No        No\n",
       "977           Yes        No\n",
       "1775           No        No\n",
       "1412           No        No\n",
       "893            No        No\n",
       "\n",
       "[100 rows x 2 columns]"
      ]
     },
     "execution_count": 105,
     "metadata": {},
     "output_type": "execute_result"
    }
   ],
   "source": [
    "#Dataframe of Predicted Output and Actual Output for Test set\n",
    "\n",
    "df3_validate = pd.DataFrame({'Actual':y1_test,'Predicted':y1_pred})\n",
    "#Create Data Frame\n",
    "\n",
    "df3_validate['Predicted']=df3_validate['Predicted']\n",
    "\n",
    "df3_validate.head(100)"
   ]
  },
  {
   "cell_type": "markdown",
   "id": "c5b663d4",
   "metadata": {},
   "source": [
    "# Performance Evaluation"
   ]
  },
  {
   "cell_type": "code",
   "execution_count": 106,
   "id": "dc9028c5",
   "metadata": {},
   "outputs": [
    {
     "name": "stdout",
     "output_type": "stream",
     "text": [
      "col_0       No  Yes\n",
      "Attrition          \n",
      "No         222   25\n",
      "Yes         31   16\n"
     ]
    }
   ],
   "source": [
    "## Confusion Matrix\n",
    "\n",
    "print(pd.crosstab(y1_test, y1_pred))"
   ]
  },
  {
   "cell_type": "code",
   "execution_count": 107,
   "id": "62f60676",
   "metadata": {},
   "outputs": [
    {
     "name": "stdout",
     "output_type": "stream",
     "text": [
      "              precision    recall  f1-score   support\n",
      "\n",
      "          No       0.88      0.90      0.89       247\n",
      "         Yes       0.39      0.34      0.36        47\n",
      "\n",
      "    accuracy                           0.81       294\n",
      "   macro avg       0.63      0.62      0.63       294\n",
      "weighted avg       0.80      0.81      0.80       294\n",
      "\n"
     ]
    }
   ],
   "source": [
    "# Print classification report\n",
    "\n",
    "print(classification_report(y_true = y1_test, y_pred=y1_pred))"
   ]
  }
 ],
 "metadata": {
  "kernelspec": {
   "display_name": "Python 3 (ipykernel)",
   "language": "python",
   "name": "python3"
  },
  "language_info": {
   "codemirror_mode": {
    "name": "ipython",
    "version": 3
   },
   "file_extension": ".py",
   "mimetype": "text/x-python",
   "name": "python",
   "nbconvert_exporter": "python",
   "pygments_lexer": "ipython3",
   "version": "3.9.7"
  }
 },
 "nbformat": 4,
 "nbformat_minor": 5
}
